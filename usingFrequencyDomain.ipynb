{
 "cells": [
  {
   "cell_type": "code",
   "execution_count": 25,
   "metadata": {},
   "outputs": [],
   "source": [
    "from sklearn.metrics import accuracy_score, classification_report,confusion_matrix\n",
    "from sklearn.model_selection import cross_validate, train_test_split\n",
    "from sklearn.preprocessing import StandardScaler\n",
    "from statistics import mean \n",
    "import matplotlib.pyplot as plt\n",
    "import pandas as pd\n",
    "import numpy as np"
   ]
  },
  {
   "cell_type": "code",
   "execution_count": 26,
   "metadata": {},
   "outputs": [
    {
     "data": {
      "text/html": [
       "<div>\n",
       "<style scoped>\n",
       "    .dataframe tbody tr th:only-of-type {\n",
       "        vertical-align: middle;\n",
       "    }\n",
       "\n",
       "    .dataframe tbody tr th {\n",
       "        vertical-align: top;\n",
       "    }\n",
       "\n",
       "    .dataframe thead th {\n",
       "        text-align: right;\n",
       "    }\n",
       "</style>\n",
       "<table border=\"1\" class=\"dataframe\">\n",
       "  <thead>\n",
       "    <tr style=\"text-align: right;\">\n",
       "      <th></th>\n",
       "      <th>X1</th>\n",
       "      <th>X2</th>\n",
       "      <th>X3</th>\n",
       "      <th>X4</th>\n",
       "      <th>X5</th>\n",
       "      <th>X6</th>\n",
       "      <th>X7</th>\n",
       "      <th>X8</th>\n",
       "      <th>X9</th>\n",
       "      <th>X10</th>\n",
       "      <th>...</th>\n",
       "      <th>X170</th>\n",
       "      <th>X171</th>\n",
       "      <th>X172</th>\n",
       "      <th>X173</th>\n",
       "      <th>X174</th>\n",
       "      <th>X175</th>\n",
       "      <th>X176</th>\n",
       "      <th>X177</th>\n",
       "      <th>X178</th>\n",
       "      <th>class</th>\n",
       "    </tr>\n",
       "  </thead>\n",
       "  <tbody>\n",
       "    <tr>\n",
       "      <th>0</th>\n",
       "      <td>135</td>\n",
       "      <td>190</td>\n",
       "      <td>229</td>\n",
       "      <td>223</td>\n",
       "      <td>192</td>\n",
       "      <td>125</td>\n",
       "      <td>55</td>\n",
       "      <td>-9</td>\n",
       "      <td>-33</td>\n",
       "      <td>-38</td>\n",
       "      <td>...</td>\n",
       "      <td>-17</td>\n",
       "      <td>-15</td>\n",
       "      <td>-31</td>\n",
       "      <td>-77</td>\n",
       "      <td>-103</td>\n",
       "      <td>-127</td>\n",
       "      <td>-116</td>\n",
       "      <td>-83</td>\n",
       "      <td>-51</td>\n",
       "      <td>0</td>\n",
       "    </tr>\n",
       "    <tr>\n",
       "      <th>1</th>\n",
       "      <td>386</td>\n",
       "      <td>382</td>\n",
       "      <td>356</td>\n",
       "      <td>331</td>\n",
       "      <td>320</td>\n",
       "      <td>315</td>\n",
       "      <td>307</td>\n",
       "      <td>272</td>\n",
       "      <td>244</td>\n",
       "      <td>232</td>\n",
       "      <td>...</td>\n",
       "      <td>164</td>\n",
       "      <td>150</td>\n",
       "      <td>146</td>\n",
       "      <td>152</td>\n",
       "      <td>157</td>\n",
       "      <td>156</td>\n",
       "      <td>154</td>\n",
       "      <td>143</td>\n",
       "      <td>129</td>\n",
       "      <td>1</td>\n",
       "    </tr>\n",
       "    <tr>\n",
       "      <th>2</th>\n",
       "      <td>-32</td>\n",
       "      <td>-39</td>\n",
       "      <td>-47</td>\n",
       "      <td>-37</td>\n",
       "      <td>-32</td>\n",
       "      <td>-36</td>\n",
       "      <td>-57</td>\n",
       "      <td>-73</td>\n",
       "      <td>-85</td>\n",
       "      <td>-94</td>\n",
       "      <td>...</td>\n",
       "      <td>57</td>\n",
       "      <td>64</td>\n",
       "      <td>48</td>\n",
       "      <td>19</td>\n",
       "      <td>-12</td>\n",
       "      <td>-30</td>\n",
       "      <td>-35</td>\n",
       "      <td>-35</td>\n",
       "      <td>-36</td>\n",
       "      <td>0</td>\n",
       "    </tr>\n",
       "    <tr>\n",
       "      <th>3</th>\n",
       "      <td>-105</td>\n",
       "      <td>-101</td>\n",
       "      <td>-96</td>\n",
       "      <td>-92</td>\n",
       "      <td>-89</td>\n",
       "      <td>-95</td>\n",
       "      <td>-102</td>\n",
       "      <td>-100</td>\n",
       "      <td>-87</td>\n",
       "      <td>-79</td>\n",
       "      <td>...</td>\n",
       "      <td>-82</td>\n",
       "      <td>-81</td>\n",
       "      <td>-80</td>\n",
       "      <td>-77</td>\n",
       "      <td>-85</td>\n",
       "      <td>-77</td>\n",
       "      <td>-72</td>\n",
       "      <td>-69</td>\n",
       "      <td>-65</td>\n",
       "      <td>0</td>\n",
       "    </tr>\n",
       "    <tr>\n",
       "      <th>4</th>\n",
       "      <td>-9</td>\n",
       "      <td>-65</td>\n",
       "      <td>-98</td>\n",
       "      <td>-102</td>\n",
       "      <td>-78</td>\n",
       "      <td>-48</td>\n",
       "      <td>-16</td>\n",
       "      <td>0</td>\n",
       "      <td>-21</td>\n",
       "      <td>-59</td>\n",
       "      <td>...</td>\n",
       "      <td>4</td>\n",
       "      <td>2</td>\n",
       "      <td>-12</td>\n",
       "      <td>-32</td>\n",
       "      <td>-41</td>\n",
       "      <td>-65</td>\n",
       "      <td>-83</td>\n",
       "      <td>-89</td>\n",
       "      <td>-73</td>\n",
       "      <td>0</td>\n",
       "    </tr>\n",
       "  </tbody>\n",
       "</table>\n",
       "<p>5 rows × 179 columns</p>\n",
       "</div>"
      ],
      "text/plain": [
       "    X1   X2   X3   X4   X5   X6   X7   X8   X9  X10  ...  X170  X171  X172  \\\n",
       "0  135  190  229  223  192  125   55   -9  -33  -38  ...   -17   -15   -31   \n",
       "1  386  382  356  331  320  315  307  272  244  232  ...   164   150   146   \n",
       "2  -32  -39  -47  -37  -32  -36  -57  -73  -85  -94  ...    57    64    48   \n",
       "3 -105 -101  -96  -92  -89  -95 -102 -100  -87  -79  ...   -82   -81   -80   \n",
       "4   -9  -65  -98 -102  -78  -48  -16    0  -21  -59  ...     4     2   -12   \n",
       "\n",
       "   X173  X174  X175  X176  X177  X178  class  \n",
       "0   -77  -103  -127  -116   -83   -51      0  \n",
       "1   152   157   156   154   143   129      1  \n",
       "2    19   -12   -30   -35   -35   -36      0  \n",
       "3   -77   -85   -77   -72   -69   -65      0  \n",
       "4   -32   -41   -65   -83   -89   -73      0  \n",
       "\n",
       "[5 rows x 179 columns]"
      ]
     },
     "execution_count": 26,
     "metadata": {},
     "output_type": "execute_result"
    }
   ],
   "source": [
    "d = pd.read_csv('processedData.csv')\n",
    "d.head()"
   ]
  },
  {
   "cell_type": "code",
   "execution_count": null,
   "metadata": {},
   "outputs": [],
   "source": []
  },
  {
   "cell_type": "code",
   "execution_count": 36,
   "metadata": {},
   "outputs": [
    {
     "data": {
      "text/plain": [
       "array([ 135,  190,  229,  223,  192,  125,   55,   -9,  -33,  -38,  -10,\n",
       "         35,   64,  113,  152,  164,  127,   50,  -47, -121, -138, -125,\n",
       "       -101,  -50,   11,   39,   24,   48,   64,   46], dtype=int64)"
      ]
     },
     "execution_count": 36,
     "metadata": {},
     "output_type": "execute_result"
    }
   ],
   "source": [
    "X = d.iloc[:,:178].values #the indexing includes every column except class \n",
    "X[0,0:30]"
   ]
  },
  {
   "cell_type": "code",
   "execution_count": 37,
   "metadata": {},
   "outputs": [
    {
     "data": {
      "text/plain": [
       "array([0, 1, 0, 0, 0, 0, 0, 0, 1, 0, 0, 1, 0, 0, 0, 0, 0, 0, 0, 0, 1, 0,\n",
       "       1, 1, 1, 0, 0, 1, 0, 0], dtype=int64)"
      ]
     },
     "execution_count": 37,
     "metadata": {},
     "output_type": "execute_result"
    }
   ],
   "source": [
    "y = d.iloc[:,178].values\n",
    "y[0:30]"
   ]
  },
  {
   "cell_type": "code",
   "execution_count": null,
   "metadata": {},
   "outputs": [],
   "source": []
  },
  {
   "cell_type": "code",
   "execution_count": 60,
   "metadata": {},
   "outputs": [],
   "source": [
    "X_fft = np.fft.fft(X,axis=1)"
   ]
  },
  {
   "cell_type": "code",
   "execution_count": 56,
   "metadata": {},
   "outputs": [
    {
     "data": {
      "text/plain": [
       "(11500, 178)"
      ]
     },
     "execution_count": 56,
     "metadata": {},
     "output_type": "execute_result"
    }
   ],
   "source": [
    "X_fft.shape"
   ]
  },
  {
   "cell_type": "code",
   "execution_count": 57,
   "metadata": {},
   "outputs": [
    {
     "name": "stderr",
     "output_type": "stream",
     "text": [
      "c:\\program files\\python37\\lib\\site-packages\\numpy\\core\\_asarray.py:85: ComplexWarning: Casting complex values to real discards the imaginary part\n",
      "  return array(a, dtype, copy=False, order=order)\n"
     ]
    },
    {
     "data": {
      "text/plain": [
       "[<matplotlib.lines.Line2D at 0x258d9c39288>]"
      ]
     },
     "execution_count": 57,
     "metadata": {},
     "output_type": "execute_result"
    },
    {
     "data": {
      "image/png": "[encoded data removed]",
      "text/plain": [
       "<Figure size 432x288 with 5 Axes>"
      ]
     },
     "metadata": {
      "needs_background": "light"
     },
     "output_type": "display_data"
    }
   ],
   "source": [
    "X_fft = X_fft[:,0:30]\n",
    "plt.subplot(511)\n",
    "plt.plot(X_fft[1,:])\n",
    "plt.subplot(512)\n",
    "plt.plot(X_fft[7,:])\n",
    "plt.subplot(513)\n",
    "plt.plot(X_fft[12,:])\n",
    "plt.subplot(514)\n",
    "plt.plot(X_fft[0,:])\n",
    "plt.subplot(515)\n",
    "plt.plot(X_fft[2,:])"
   ]
  },
  {
   "cell_type": "code",
   "execution_count": 58,
   "metadata": {},
   "outputs": [],
   "source": [
    "X_train_fft, X_test_fft, y_train_fft, y_test_fft = train_test_split(X_fft, y, test_size = 0.2)\n",
    "sc = StandardScaler()"
   ]
  },
  {
   "cell_type": "code",
   "execution_count": null,
   "metadata": {},
   "outputs": [],
   "source": []
  },
  {
   "cell_type": "code",
   "execution_count": 64,
   "metadata": {},
   "outputs": [],
   "source": [
    "def dft(x):\n",
    "    x = np.asarray(x, dtype=float)\n",
    "    N = x.shape[0]\n",
    "    n = np.arange(N)\n",
    "    k = n.reshape((N, 1))\n",
    "    M = np.exp(-2j * np.pi * k * n / N)\n",
    "    return np.dot(M, x)"
   ]
  },
  {
   "cell_type": "code",
   "execution_count": null,
   "metadata": {},
   "outputs": [],
   "source": []
  },
  {
   "cell_type": "code",
   "execution_count": null,
   "metadata": {},
   "outputs": [],
   "source": [
    "n"
   ]
  },
  {
   "cell_type": "code",
   "execution_count": 66,
   "metadata": {},
   "outputs": [
    {
     "ename": "KeyboardInterrupt",
     "evalue": "",
     "output_type": "error",
     "traceback": [
      "\u001b[1;31m---------------------------------------------------------------------------\u001b[0m",
      "\u001b[1;31mKeyboardInterrupt\u001b[0m                         Traceback (most recent call last)",
      "\u001b[1;32m<ipython-input-66-95b5c27e40a8>\u001b[0m in \u001b[0;36m<module>\u001b[1;34m\u001b[0m\n\u001b[1;32m----> 1\u001b[1;33m \u001b[0mdft\u001b[0m\u001b[1;33m(\u001b[0m\u001b[0mX\u001b[0m\u001b[1;33m)\u001b[0m\u001b[1;33m\u001b[0m\u001b[1;33m\u001b[0m\u001b[0m\n\u001b[0m",
      "\u001b[1;32m<ipython-input-64-f3ee19000a1c>\u001b[0m in \u001b[0;36mdft\u001b[1;34m(x)\u001b[0m\n\u001b[0;32m      4\u001b[0m     \u001b[0mn\u001b[0m \u001b[1;33m=\u001b[0m \u001b[0mnp\u001b[0m\u001b[1;33m.\u001b[0m\u001b[0marange\u001b[0m\u001b[1;33m(\u001b[0m\u001b[0mN\u001b[0m\u001b[1;33m)\u001b[0m\u001b[1;33m\u001b[0m\u001b[1;33m\u001b[0m\u001b[0m\n\u001b[0;32m      5\u001b[0m     \u001b[0mk\u001b[0m \u001b[1;33m=\u001b[0m \u001b[0mn\u001b[0m\u001b[1;33m.\u001b[0m\u001b[0mreshape\u001b[0m\u001b[1;33m(\u001b[0m\u001b[1;33m(\u001b[0m\u001b[0mN\u001b[0m\u001b[1;33m,\u001b[0m \u001b[1;36m1\u001b[0m\u001b[1;33m)\u001b[0m\u001b[1;33m)\u001b[0m\u001b[1;33m\u001b[0m\u001b[1;33m\u001b[0m\u001b[0m\n\u001b[1;32m----> 6\u001b[1;33m     \u001b[0mM\u001b[0m \u001b[1;33m=\u001b[0m \u001b[0mnp\u001b[0m\u001b[1;33m.\u001b[0m\u001b[0mexp\u001b[0m\u001b[1;33m(\u001b[0m\u001b[1;33m-\u001b[0m\u001b[1;36m2j\u001b[0m \u001b[1;33m*\u001b[0m \u001b[0mnp\u001b[0m\u001b[1;33m.\u001b[0m\u001b[0mpi\u001b[0m \u001b[1;33m*\u001b[0m \u001b[0mk\u001b[0m \u001b[1;33m*\u001b[0m \u001b[0mn\u001b[0m \u001b[1;33m/\u001b[0m \u001b[0mN\u001b[0m\u001b[1;33m)\u001b[0m\u001b[1;33m\u001b[0m\u001b[1;33m\u001b[0m\u001b[0m\n\u001b[0m\u001b[0;32m      7\u001b[0m     \u001b[1;32mreturn\u001b[0m \u001b[0mnp\u001b[0m\u001b[1;33m.\u001b[0m\u001b[0mdot\u001b[0m\u001b[1;33m(\u001b[0m\u001b[0mM\u001b[0m\u001b[1;33m,\u001b[0m \u001b[0mx\u001b[0m\u001b[1;33m)\u001b[0m\u001b[1;33m\u001b[0m\u001b[1;33m\u001b[0m\u001b[0m\n",
      "\u001b[1;31mKeyboardInterrupt\u001b[0m: "
     ]
    }
   ],
   "source": [
    "dft(X)"
   ]
  },
  {
   "cell_type": "code",
   "execution_count": null,
   "metadata": {},
   "outputs": [],
   "source": []
  },
  {
   "cell_type": "code",
   "execution_count": 61,
   "metadata": {},
   "outputs": [
    {
     "ename": "ValueError",
     "evalue": "Complex data not supported\n[[ -3010.            +0.j           2446.79079212  +450.26036407j\n   -2657.82926858 -1481.14375235j ...   3723.26645434 +2659.48430797j\n   -2657.82926858 +1481.14375235j   2446.79079212  -450.26036407j]\n [  5004.            +0.j           1307.72458087 -7404.53273831j\n   15020.76766779 +7130.18903044j ... -25344.16111885-18210.88127508j\n   15020.76766779 -7130.18903044j   1307.72458087 +7404.53273831j]\n [ -7840.            +0.j            936.49675216  -664.89349595j\n     440.28950635 +2359.5200808j  ...   -347.45932081 -1292.8126898j\n     440.28950635 -2359.5200808j     936.49675216  +664.89349595j]\n ...\n [  1202.            +0.j          -1370.81722374 -1786.42314571j\n    -406.88133027 -3340.19316663j ...    -40.29865635  +127.31387513j\n    -406.88133027 +3340.19316663j  -1370.81722374 +1786.42314571j]\n [ -6914.            +0.j           1291.36233245  +218.99684588j\n    2986.66355234 +1355.36334052j ...   4678.64222263 -1123.29490953j\n    2986.66355234 -1355.36334052j   1291.36233245  -218.99684588j]\n [  -376.            +0.j            389.45911217  +655.31067299j\n    1873.59850321 -2247.98216097j ...   -520.23628273  -554.33190571j\n    1873.59850321 +2247.98216097j    389.45911217  -655.31067299j]]\n",
     "output_type": "error",
     "traceback": [
      "\u001b[1;31m---------------------------------------------------------------------------\u001b[0m",
      "\u001b[1;31mComplexWarning\u001b[0m                            Traceback (most recent call last)",
      "\u001b[1;32mc:\\program files\\python37\\lib\\site-packages\\sklearn\\utils\\validation.py\u001b[0m in \u001b[0;36mcheck_array\u001b[1;34m(array, accept_sparse, accept_large_sparse, dtype, order, copy, force_all_finite, ensure_2d, allow_nd, ensure_min_samples, ensure_min_features, warn_on_dtype, estimator)\u001b[0m\n\u001b[0;32m    514\u001b[0m                 \u001b[1;32melse\u001b[0m\u001b[1;33m:\u001b[0m\u001b[1;33m\u001b[0m\u001b[1;33m\u001b[0m\u001b[0m\n\u001b[1;32m--> 515\u001b[1;33m                     \u001b[0marray\u001b[0m \u001b[1;33m=\u001b[0m \u001b[0mnp\u001b[0m\u001b[1;33m.\u001b[0m\u001b[0masarray\u001b[0m\u001b[1;33m(\u001b[0m\u001b[0marray\u001b[0m\u001b[1;33m,\u001b[0m \u001b[0morder\u001b[0m\u001b[1;33m=\u001b[0m\u001b[0morder\u001b[0m\u001b[1;33m,\u001b[0m \u001b[0mdtype\u001b[0m\u001b[1;33m=\u001b[0m\u001b[0mdtype\u001b[0m\u001b[1;33m)\u001b[0m\u001b[1;33m\u001b[0m\u001b[1;33m\u001b[0m\u001b[0m\n\u001b[0m\u001b[0;32m    516\u001b[0m             \u001b[1;32mexcept\u001b[0m \u001b[0mComplexWarning\u001b[0m\u001b[1;33m:\u001b[0m\u001b[1;33m\u001b[0m\u001b[1;33m\u001b[0m\u001b[0m\n",
      "\u001b[1;32mc:\\program files\\python37\\lib\\site-packages\\numpy\\core\\_asarray.py\u001b[0m in \u001b[0;36masarray\u001b[1;34m(a, dtype, order)\u001b[0m\n\u001b[0;32m     84\u001b[0m     \"\"\"\n\u001b[1;32m---> 85\u001b[1;33m     \u001b[1;32mreturn\u001b[0m \u001b[0marray\u001b[0m\u001b[1;33m(\u001b[0m\u001b[0ma\u001b[0m\u001b[1;33m,\u001b[0m \u001b[0mdtype\u001b[0m\u001b[1;33m,\u001b[0m \u001b[0mcopy\u001b[0m\u001b[1;33m=\u001b[0m\u001b[1;32mFalse\u001b[0m\u001b[1;33m,\u001b[0m \u001b[0morder\u001b[0m\u001b[1;33m=\u001b[0m\u001b[0morder\u001b[0m\u001b[1;33m)\u001b[0m\u001b[1;33m\u001b[0m\u001b[1;33m\u001b[0m\u001b[0m\n\u001b[0m\u001b[0;32m     86\u001b[0m \u001b[1;33m\u001b[0m\u001b[0m\n",
      "\u001b[1;31mComplexWarning\u001b[0m: Casting complex values to real discards the imaginary part",
      "\nDuring handling of the above exception, another exception occurred:\n",
      "\u001b[1;31mValueError\u001b[0m                                Traceback (most recent call last)",
      "\u001b[1;32m<ipython-input-61-6ee22ba587b5>\u001b[0m in \u001b[0;36m<module>\u001b[1;34m\u001b[0m\n\u001b[1;32m----> 1\u001b[1;33m \u001b[0mbruv\u001b[0m \u001b[1;33m=\u001b[0m  \u001b[0msc\u001b[0m\u001b[1;33m.\u001b[0m\u001b[0mfit_transform\u001b[0m\u001b[1;33m(\u001b[0m\u001b[0mX_fft\u001b[0m\u001b[1;33m)\u001b[0m\u001b[1;33m\u001b[0m\u001b[1;33m\u001b[0m\u001b[0m\n\u001b[0m",
      "\u001b[1;32mc:\\program files\\python37\\lib\\site-packages\\sklearn\\base.py\u001b[0m in \u001b[0;36mfit_transform\u001b[1;34m(self, X, y, **fit_params)\u001b[0m\n\u001b[0;32m    569\u001b[0m         \u001b[1;32mif\u001b[0m \u001b[0my\u001b[0m \u001b[1;32mis\u001b[0m \u001b[1;32mNone\u001b[0m\u001b[1;33m:\u001b[0m\u001b[1;33m\u001b[0m\u001b[1;33m\u001b[0m\u001b[0m\n\u001b[0;32m    570\u001b[0m             \u001b[1;31m# fit method of arity 1 (unsupervised transformation)\u001b[0m\u001b[1;33m\u001b[0m\u001b[1;33m\u001b[0m\u001b[1;33m\u001b[0m\u001b[0m\n\u001b[1;32m--> 571\u001b[1;33m             \u001b[1;32mreturn\u001b[0m \u001b[0mself\u001b[0m\u001b[1;33m.\u001b[0m\u001b[0mfit\u001b[0m\u001b[1;33m(\u001b[0m\u001b[0mX\u001b[0m\u001b[1;33m,\u001b[0m \u001b[1;33m**\u001b[0m\u001b[0mfit_params\u001b[0m\u001b[1;33m)\u001b[0m\u001b[1;33m.\u001b[0m\u001b[0mtransform\u001b[0m\u001b[1;33m(\u001b[0m\u001b[0mX\u001b[0m\u001b[1;33m)\u001b[0m\u001b[1;33m\u001b[0m\u001b[1;33m\u001b[0m\u001b[0m\n\u001b[0m\u001b[0;32m    572\u001b[0m         \u001b[1;32melse\u001b[0m\u001b[1;33m:\u001b[0m\u001b[1;33m\u001b[0m\u001b[1;33m\u001b[0m\u001b[0m\n\u001b[0;32m    573\u001b[0m             \u001b[1;31m# fit method of arity 2 (supervised transformation)\u001b[0m\u001b[1;33m\u001b[0m\u001b[1;33m\u001b[0m\u001b[1;33m\u001b[0m\u001b[0m\n",
      "\u001b[1;32mc:\\program files\\python37\\lib\\site-packages\\sklearn\\preprocessing\\_data.py\u001b[0m in \u001b[0;36mfit\u001b[1;34m(self, X, y)\u001b[0m\n\u001b[0;32m    667\u001b[0m         \u001b[1;31m# Reset internal state before fitting\u001b[0m\u001b[1;33m\u001b[0m\u001b[1;33m\u001b[0m\u001b[1;33m\u001b[0m\u001b[0m\n\u001b[0;32m    668\u001b[0m         \u001b[0mself\u001b[0m\u001b[1;33m.\u001b[0m\u001b[0m_reset\u001b[0m\u001b[1;33m(\u001b[0m\u001b[1;33m)\u001b[0m\u001b[1;33m\u001b[0m\u001b[1;33m\u001b[0m\u001b[0m\n\u001b[1;32m--> 669\u001b[1;33m         \u001b[1;32mreturn\u001b[0m \u001b[0mself\u001b[0m\u001b[1;33m.\u001b[0m\u001b[0mpartial_fit\u001b[0m\u001b[1;33m(\u001b[0m\u001b[0mX\u001b[0m\u001b[1;33m,\u001b[0m \u001b[0my\u001b[0m\u001b[1;33m)\u001b[0m\u001b[1;33m\u001b[0m\u001b[1;33m\u001b[0m\u001b[0m\n\u001b[0m\u001b[0;32m    670\u001b[0m \u001b[1;33m\u001b[0m\u001b[0m\n\u001b[0;32m    671\u001b[0m     \u001b[1;32mdef\u001b[0m \u001b[0mpartial_fit\u001b[0m\u001b[1;33m(\u001b[0m\u001b[0mself\u001b[0m\u001b[1;33m,\u001b[0m \u001b[0mX\u001b[0m\u001b[1;33m,\u001b[0m \u001b[0my\u001b[0m\u001b[1;33m=\u001b[0m\u001b[1;32mNone\u001b[0m\u001b[1;33m)\u001b[0m\u001b[1;33m:\u001b[0m\u001b[1;33m\u001b[0m\u001b[1;33m\u001b[0m\u001b[0m\n",
      "\u001b[1;32mc:\\program files\\python37\\lib\\site-packages\\sklearn\\preprocessing\\_data.py\u001b[0m in \u001b[0;36mpartial_fit\u001b[1;34m(self, X, y)\u001b[0m\n\u001b[0;32m    698\u001b[0m         X = check_array(X, accept_sparse=('csr', 'csc'),\n\u001b[0;32m    699\u001b[0m                         \u001b[0mestimator\u001b[0m\u001b[1;33m=\u001b[0m\u001b[0mself\u001b[0m\u001b[1;33m,\u001b[0m \u001b[0mdtype\u001b[0m\u001b[1;33m=\u001b[0m\u001b[0mFLOAT_DTYPES\u001b[0m\u001b[1;33m,\u001b[0m\u001b[1;33m\u001b[0m\u001b[1;33m\u001b[0m\u001b[0m\n\u001b[1;32m--> 700\u001b[1;33m                         force_all_finite='allow-nan')\n\u001b[0m\u001b[0;32m    701\u001b[0m \u001b[1;33m\u001b[0m\u001b[0m\n\u001b[0;32m    702\u001b[0m         \u001b[1;31m# Even in the case of `with_mean=False`, we update the mean anyway\u001b[0m\u001b[1;33m\u001b[0m\u001b[1;33m\u001b[0m\u001b[1;33m\u001b[0m\u001b[0m\n",
      "\u001b[1;32mc:\\program files\\python37\\lib\\site-packages\\sklearn\\utils\\validation.py\u001b[0m in \u001b[0;36mcheck_array\u001b[1;34m(array, accept_sparse, accept_large_sparse, dtype, order, copy, force_all_finite, ensure_2d, allow_nd, ensure_min_samples, ensure_min_features, warn_on_dtype, estimator)\u001b[0m\n\u001b[0;32m    516\u001b[0m             \u001b[1;32mexcept\u001b[0m \u001b[0mComplexWarning\u001b[0m\u001b[1;33m:\u001b[0m\u001b[1;33m\u001b[0m\u001b[1;33m\u001b[0m\u001b[0m\n\u001b[0;32m    517\u001b[0m                 raise ValueError(\"Complex data not supported\\n\"\n\u001b[1;32m--> 518\u001b[1;33m                                  \"{}\\n\".format(array))\n\u001b[0m\u001b[0;32m    519\u001b[0m \u001b[1;33m\u001b[0m\u001b[0m\n\u001b[0;32m    520\u001b[0m         \u001b[1;31m# It is possible that the np.array(..) gave no warning. This happens\u001b[0m\u001b[1;33m\u001b[0m\u001b[1;33m\u001b[0m\u001b[1;33m\u001b[0m\u001b[0m\n",
      "\u001b[1;31mValueError\u001b[0m: Complex data not supported\n[[ -3010.            +0.j           2446.79079212  +450.26036407j\n   -2657.82926858 -1481.14375235j ...   3723.26645434 +2659.48430797j\n   -2657.82926858 +1481.14375235j   2446.79079212  -450.26036407j]\n [  5004.            +0.j           1307.72458087 -7404.53273831j\n   15020.76766779 +7130.18903044j ... -25344.16111885-18210.88127508j\n   15020.76766779 -7130.18903044j   1307.72458087 +7404.53273831j]\n [ -7840.            +0.j            936.49675216  -664.89349595j\n     440.28950635 +2359.5200808j  ...   -347.45932081 -1292.8126898j\n     440.28950635 -2359.5200808j     936.49675216  +664.89349595j]\n ...\n [  1202.            +0.j          -1370.81722374 -1786.42314571j\n    -406.88133027 -3340.19316663j ...    -40.29865635  +127.31387513j\n    -406.88133027 +3340.19316663j  -1370.81722374 +1786.42314571j]\n [ -6914.            +0.j           1291.36233245  +218.99684588j\n    2986.66355234 +1355.36334052j ...   4678.64222263 -1123.29490953j\n    2986.66355234 -1355.36334052j   1291.36233245  -218.99684588j]\n [  -376.            +0.j            389.45911217  +655.31067299j\n    1873.59850321 -2247.98216097j ...   -520.23628273  -554.33190571j\n    1873.59850321 +2247.98216097j    389.45911217  -655.31067299j]]\n"
     ]
    }
   ],
   "source": [
    "bruv =  sc.fit_transform(X_fft)"
   ]
  },
  {
   "cell_type": "code",
   "execution_count": 59,
   "metadata": {},
   "outputs": [
    {
     "ename": "ValueError",
     "evalue": "Complex data not supported\n[[-2859.        +0.00000000e+00j -6434.81607014+4.62812230e+02j\n   2363.5748082 -1.41417087e+00j ...   983.51353705-8.87607273e+02j\n    477.88804929+1.30327333e+02j  -916.82727975-1.52913369e+03j]\n [ 9943.        +0.00000000e+00j   740.78911201+1.65160419e+03j\n   3212.10623935+1.94693166e+03j ...    29.16761919+3.20831407e+02j\n   -301.0947446 +1.83757231e+02j   -68.33761584+3.05916622e+02j]\n [ 2736.        +0.00000000e+00j  1134.09903042+9.25481230e+02j\n    878.62194119+1.04973532e+03j ...  -150.48170752+1.18875578e+00j\n    -26.78685081+1.04801407e+02j  -143.3337056 +1.65983002e+02j]\n ...\n [ 1815.        +0.00000000e+00j   440.63015092-3.93036073e+03j\n    585.66871058-7.40237133e+02j ...   -83.98105125-2.01777791e+02j\n    363.23610676+1.00028827e+01j    38.99594518-2.67763299e+02j]\n [ 4546.        +0.00000000e+00j   167.92283268-1.25097143e+03j\n   -969.64662452-1.23149686e+03j ...   -61.7784939 +1.49578792e+01j\n    -43.76983693+2.74759980e+01j    33.09618136+3.19941491e+01j]\n [ 1545.        +0.00000000e+00j -8014.78773871-6.73155303e+03j\n  -9078.98655393-2.97302438e+03j ...  -720.08177027-2.03658769e+03j\n    875.08045201+2.69563244e+02j   718.39385348-1.00582290e+02j]]\n",
     "output_type": "error",
     "traceback": [
      "\u001b[1;31m---------------------------------------------------------------------------\u001b[0m",
      "\u001b[1;31mComplexWarning\u001b[0m                            Traceback (most recent call last)",
      "\u001b[1;32mc:\\program files\\python37\\lib\\site-packages\\sklearn\\utils\\validation.py\u001b[0m in \u001b[0;36mcheck_array\u001b[1;34m(array, accept_sparse, accept_large_sparse, dtype, order, copy, force_all_finite, ensure_2d, allow_nd, ensure_min_samples, ensure_min_features, warn_on_dtype, estimator)\u001b[0m\n\u001b[0;32m    514\u001b[0m                 \u001b[1;32melse\u001b[0m\u001b[1;33m:\u001b[0m\u001b[1;33m\u001b[0m\u001b[1;33m\u001b[0m\u001b[0m\n\u001b[1;32m--> 515\u001b[1;33m                     \u001b[0marray\u001b[0m \u001b[1;33m=\u001b[0m \u001b[0mnp\u001b[0m\u001b[1;33m.\u001b[0m\u001b[0masarray\u001b[0m\u001b[1;33m(\u001b[0m\u001b[0marray\u001b[0m\u001b[1;33m,\u001b[0m \u001b[0morder\u001b[0m\u001b[1;33m=\u001b[0m\u001b[0morder\u001b[0m\u001b[1;33m,\u001b[0m \u001b[0mdtype\u001b[0m\u001b[1;33m=\u001b[0m\u001b[0mdtype\u001b[0m\u001b[1;33m)\u001b[0m\u001b[1;33m\u001b[0m\u001b[1;33m\u001b[0m\u001b[0m\n\u001b[0m\u001b[0;32m    516\u001b[0m             \u001b[1;32mexcept\u001b[0m \u001b[0mComplexWarning\u001b[0m\u001b[1;33m:\u001b[0m\u001b[1;33m\u001b[0m\u001b[1;33m\u001b[0m\u001b[0m\n",
      "\u001b[1;32mc:\\program files\\python37\\lib\\site-packages\\numpy\\core\\_asarray.py\u001b[0m in \u001b[0;36masarray\u001b[1;34m(a, dtype, order)\u001b[0m\n\u001b[0;32m     84\u001b[0m     \"\"\"\n\u001b[1;32m---> 85\u001b[1;33m     \u001b[1;32mreturn\u001b[0m \u001b[0marray\u001b[0m\u001b[1;33m(\u001b[0m\u001b[0ma\u001b[0m\u001b[1;33m,\u001b[0m \u001b[0mdtype\u001b[0m\u001b[1;33m,\u001b[0m \u001b[0mcopy\u001b[0m\u001b[1;33m=\u001b[0m\u001b[1;32mFalse\u001b[0m\u001b[1;33m,\u001b[0m \u001b[0morder\u001b[0m\u001b[1;33m=\u001b[0m\u001b[0morder\u001b[0m\u001b[1;33m)\u001b[0m\u001b[1;33m\u001b[0m\u001b[1;33m\u001b[0m\u001b[0m\n\u001b[0m\u001b[0;32m     86\u001b[0m \u001b[1;33m\u001b[0m\u001b[0m\n",
      "\u001b[1;31mComplexWarning\u001b[0m: Casting complex values to real discards the imaginary part",
      "\nDuring handling of the above exception, another exception occurred:\n",
      "\u001b[1;31mValueError\u001b[0m                                Traceback (most recent call last)",
      "\u001b[1;32m<ipython-input-59-13580226494d>\u001b[0m in \u001b[0;36m<module>\u001b[1;34m\u001b[0m\n\u001b[1;32m----> 1\u001b[1;33m \u001b[0mX_train_fft\u001b[0m \u001b[1;33m=\u001b[0m \u001b[0msc\u001b[0m\u001b[1;33m.\u001b[0m\u001b[0mfit_transform\u001b[0m\u001b[1;33m(\u001b[0m\u001b[0mX_train_fft\u001b[0m\u001b[1;33m)\u001b[0m\u001b[1;33m\u001b[0m\u001b[1;33m\u001b[0m\u001b[0m\n\u001b[0m\u001b[0;32m      2\u001b[0m \u001b[0mX_test_fft\u001b[0m \u001b[1;33m=\u001b[0m \u001b[0msc\u001b[0m\u001b[1;33m.\u001b[0m\u001b[0mtransform\u001b[0m\u001b[1;33m(\u001b[0m\u001b[0mX_test_fft\u001b[0m\u001b[1;33m)\u001b[0m\u001b[1;33m\u001b[0m\u001b[1;33m\u001b[0m\u001b[0m\n",
      "\u001b[1;32mc:\\program files\\python37\\lib\\site-packages\\sklearn\\base.py\u001b[0m in \u001b[0;36mfit_transform\u001b[1;34m(self, X, y, **fit_params)\u001b[0m\n\u001b[0;32m    569\u001b[0m         \u001b[1;32mif\u001b[0m \u001b[0my\u001b[0m \u001b[1;32mis\u001b[0m \u001b[1;32mNone\u001b[0m\u001b[1;33m:\u001b[0m\u001b[1;33m\u001b[0m\u001b[1;33m\u001b[0m\u001b[0m\n\u001b[0;32m    570\u001b[0m             \u001b[1;31m# fit method of arity 1 (unsupervised transformation)\u001b[0m\u001b[1;33m\u001b[0m\u001b[1;33m\u001b[0m\u001b[1;33m\u001b[0m\u001b[0m\n\u001b[1;32m--> 571\u001b[1;33m             \u001b[1;32mreturn\u001b[0m \u001b[0mself\u001b[0m\u001b[1;33m.\u001b[0m\u001b[0mfit\u001b[0m\u001b[1;33m(\u001b[0m\u001b[0mX\u001b[0m\u001b[1;33m,\u001b[0m \u001b[1;33m**\u001b[0m\u001b[0mfit_params\u001b[0m\u001b[1;33m)\u001b[0m\u001b[1;33m.\u001b[0m\u001b[0mtransform\u001b[0m\u001b[1;33m(\u001b[0m\u001b[0mX\u001b[0m\u001b[1;33m)\u001b[0m\u001b[1;33m\u001b[0m\u001b[1;33m\u001b[0m\u001b[0m\n\u001b[0m\u001b[0;32m    572\u001b[0m         \u001b[1;32melse\u001b[0m\u001b[1;33m:\u001b[0m\u001b[1;33m\u001b[0m\u001b[1;33m\u001b[0m\u001b[0m\n\u001b[0;32m    573\u001b[0m             \u001b[1;31m# fit method of arity 2 (supervised transformation)\u001b[0m\u001b[1;33m\u001b[0m\u001b[1;33m\u001b[0m\u001b[1;33m\u001b[0m\u001b[0m\n",
      "\u001b[1;32mc:\\program files\\python37\\lib\\site-packages\\sklearn\\preprocessing\\_data.py\u001b[0m in \u001b[0;36mfit\u001b[1;34m(self, X, y)\u001b[0m\n\u001b[0;32m    667\u001b[0m         \u001b[1;31m# Reset internal state before fitting\u001b[0m\u001b[1;33m\u001b[0m\u001b[1;33m\u001b[0m\u001b[1;33m\u001b[0m\u001b[0m\n\u001b[0;32m    668\u001b[0m         \u001b[0mself\u001b[0m\u001b[1;33m.\u001b[0m\u001b[0m_reset\u001b[0m\u001b[1;33m(\u001b[0m\u001b[1;33m)\u001b[0m\u001b[1;33m\u001b[0m\u001b[1;33m\u001b[0m\u001b[0m\n\u001b[1;32m--> 669\u001b[1;33m         \u001b[1;32mreturn\u001b[0m \u001b[0mself\u001b[0m\u001b[1;33m.\u001b[0m\u001b[0mpartial_fit\u001b[0m\u001b[1;33m(\u001b[0m\u001b[0mX\u001b[0m\u001b[1;33m,\u001b[0m \u001b[0my\u001b[0m\u001b[1;33m)\u001b[0m\u001b[1;33m\u001b[0m\u001b[1;33m\u001b[0m\u001b[0m\n\u001b[0m\u001b[0;32m    670\u001b[0m \u001b[1;33m\u001b[0m\u001b[0m\n\u001b[0;32m    671\u001b[0m     \u001b[1;32mdef\u001b[0m \u001b[0mpartial_fit\u001b[0m\u001b[1;33m(\u001b[0m\u001b[0mself\u001b[0m\u001b[1;33m,\u001b[0m \u001b[0mX\u001b[0m\u001b[1;33m,\u001b[0m \u001b[0my\u001b[0m\u001b[1;33m=\u001b[0m\u001b[1;32mNone\u001b[0m\u001b[1;33m)\u001b[0m\u001b[1;33m:\u001b[0m\u001b[1;33m\u001b[0m\u001b[1;33m\u001b[0m\u001b[0m\n",
      "\u001b[1;32mc:\\program files\\python37\\lib\\site-packages\\sklearn\\preprocessing\\_data.py\u001b[0m in \u001b[0;36mpartial_fit\u001b[1;34m(self, X, y)\u001b[0m\n\u001b[0;32m    698\u001b[0m         X = check_array(X, accept_sparse=('csr', 'csc'),\n\u001b[0;32m    699\u001b[0m                         \u001b[0mestimator\u001b[0m\u001b[1;33m=\u001b[0m\u001b[0mself\u001b[0m\u001b[1;33m,\u001b[0m \u001b[0mdtype\u001b[0m\u001b[1;33m=\u001b[0m\u001b[0mFLOAT_DTYPES\u001b[0m\u001b[1;33m,\u001b[0m\u001b[1;33m\u001b[0m\u001b[1;33m\u001b[0m\u001b[0m\n\u001b[1;32m--> 700\u001b[1;33m                         force_all_finite='allow-nan')\n\u001b[0m\u001b[0;32m    701\u001b[0m \u001b[1;33m\u001b[0m\u001b[0m\n\u001b[0;32m    702\u001b[0m         \u001b[1;31m# Even in the case of `with_mean=False`, we update the mean anyway\u001b[0m\u001b[1;33m\u001b[0m\u001b[1;33m\u001b[0m\u001b[1;33m\u001b[0m\u001b[0m\n",
      "\u001b[1;32mc:\\program files\\python37\\lib\\site-packages\\sklearn\\utils\\validation.py\u001b[0m in \u001b[0;36mcheck_array\u001b[1;34m(array, accept_sparse, accept_large_sparse, dtype, order, copy, force_all_finite, ensure_2d, allow_nd, ensure_min_samples, ensure_min_features, warn_on_dtype, estimator)\u001b[0m\n\u001b[0;32m    516\u001b[0m             \u001b[1;32mexcept\u001b[0m \u001b[0mComplexWarning\u001b[0m\u001b[1;33m:\u001b[0m\u001b[1;33m\u001b[0m\u001b[1;33m\u001b[0m\u001b[0m\n\u001b[0;32m    517\u001b[0m                 raise ValueError(\"Complex data not supported\\n\"\n\u001b[1;32m--> 518\u001b[1;33m                                  \"{}\\n\".format(array))\n\u001b[0m\u001b[0;32m    519\u001b[0m \u001b[1;33m\u001b[0m\u001b[0m\n\u001b[0;32m    520\u001b[0m         \u001b[1;31m# It is possible that the np.array(..) gave no warning. This happens\u001b[0m\u001b[1;33m\u001b[0m\u001b[1;33m\u001b[0m\u001b[1;33m\u001b[0m\u001b[0m\n",
      "\u001b[1;31mValueError\u001b[0m: Complex data not supported\n[[-2859.        +0.00000000e+00j -6434.81607014+4.62812230e+02j\n   2363.5748082 -1.41417087e+00j ...   983.51353705-8.87607273e+02j\n    477.88804929+1.30327333e+02j  -916.82727975-1.52913369e+03j]\n [ 9943.        +0.00000000e+00j   740.78911201+1.65160419e+03j\n   3212.10623935+1.94693166e+03j ...    29.16761919+3.20831407e+02j\n   -301.0947446 +1.83757231e+02j   -68.33761584+3.05916622e+02j]\n [ 2736.        +0.00000000e+00j  1134.09903042+9.25481230e+02j\n    878.62194119+1.04973532e+03j ...  -150.48170752+1.18875578e+00j\n    -26.78685081+1.04801407e+02j  -143.3337056 +1.65983002e+02j]\n ...\n [ 1815.        +0.00000000e+00j   440.63015092-3.93036073e+03j\n    585.66871058-7.40237133e+02j ...   -83.98105125-2.01777791e+02j\n    363.23610676+1.00028827e+01j    38.99594518-2.67763299e+02j]\n [ 4546.        +0.00000000e+00j   167.92283268-1.25097143e+03j\n   -969.64662452-1.23149686e+03j ...   -61.7784939 +1.49578792e+01j\n    -43.76983693+2.74759980e+01j    33.09618136+3.19941491e+01j]\n [ 1545.        +0.00000000e+00j -8014.78773871-6.73155303e+03j\n  -9078.98655393-2.97302438e+03j ...  -720.08177027-2.03658769e+03j\n    875.08045201+2.69563244e+02j   718.39385348-1.00582290e+02j]]\n"
     ]
    }
   ],
   "source": [
    "X_train_fft = sc.fit_transform(X_train_fft)\n",
    "X_test_fft = sc.transform(X_test_fft)"
   ]
  },
  {
   "cell_type": "code",
   "execution_count": null,
   "metadata": {},
   "outputs": [],
   "source": []
  },
  {
   "cell_type": "code",
   "execution_count": null,
   "metadata": {},
   "outputs": [],
   "source": []
  },
  {
   "cell_type": "code",
   "execution_count": null,
   "metadata": {},
   "outputs": [],
   "source": []
  },
  {
   "cell_type": "code",
   "execution_count": null,
   "metadata": {},
   "outputs": [],
   "source": []
  },
  {
   "cell_type": "code",
   "execution_count": 128,
   "metadata": {},
   "outputs": [],
   "source": [
    "fftX = pd.DataFrame(np.fft.rfft(X,axis=1)) #cast to dataframe so I can conconcatenate later on "
   ]
  },
  {
   "cell_type": "code",
   "execution_count": null,
   "metadata": {},
   "outputs": [],
   "source": []
  },
  {
   "cell_type": "markdown",
   "metadata": {},
   "source": [
    "-------------------"
   ]
  },
  {
   "cell_type": "code",
   "execution_count": 105,
   "metadata": {},
   "outputs": [],
   "source": [
    "#WARNING: MAKING X AND Y SMALLER FOR NOW \n",
    "#We'll want to use the full dataset when reporting final numbers\n",
    "#I'd be nice if we could do 5 fold CV, but that will take a very very long time if we're using the full dataset\n",
    "\n",
    "X = X.iloc[0:2000,:]\n",
    "fftX = fftX.iloc[0:2000,:]\n",
    "y = y.iloc[0:2000]"
   ]
  },
  {
   "cell_type": "code",
   "execution_count": 106,
   "metadata": {},
   "outputs": [
    {
     "name": "stdout",
     "output_type": "stream",
     "text": [
      "(2000, 178)\n",
      "(2000, 90)\n",
      "(2000,)\n"
     ]
    }
   ],
   "source": [
    "print(X.shape)\n",
    "print(fftX.shape)\n",
    "print(y.shape)"
   ]
  },
  {
   "cell_type": "markdown",
   "metadata": {},
   "source": [
    "------------"
   ]
  },
  {
   "cell_type": "markdown",
   "metadata": {},
   "source": [
    "Using only frequency domain: "
   ]
  },
  {
   "cell_type": "code",
   "execution_count": 107,
   "metadata": {},
   "outputs": [],
   "source": [
    "X_train, X_test, y_train, y_test = train_test_split(fftX, y, test_size = 0.2)"
   ]
  },
  {
   "cell_type": "code",
   "execution_count": 110,
   "metadata": {},
   "outputs": [
    {
     "data": {
      "text/plain": [
       "(1600, 90)"
      ]
     },
     "execution_count": 110,
     "metadata": {},
     "output_type": "execute_result"
    }
   ],
   "source": [
    "#Confirm that only fftX is being used: there should be 90 columns: \n",
    "X_train.shape"
   ]
  },
  {
   "cell_type": "code",
   "execution_count": 113,
   "metadata": {},
   "outputs": [
    {
     "ename": "ValueError",
     "evalue": "Complex data not supported\n                         0                          1   \\\n604  -8788.000000+0.000000j  5708.328329+10134.672561j   \n1568 -9395.000000+0.000000j   2334.869603-1870.300580j   \n480  -1156.000000+0.000000j    -504.991841+635.717354j   \n108   5865.000000+0.000000j  -6696.191849+6034.735151j   \n1043 -2875.000000+0.000000j   1430.796942-1006.132391j   \n...                     ...                        ...   \n930  -4671.000000+0.000000j   1254.695202-3708.271958j   \n46     855.000000+0.000000j    678.669892+1956.327346j   \n790  -5963.000000+0.000000j   -777.201745-1412.382335j   \n953   -892.000000+0.000000j     -269.207770+79.801160j   \n1072 -5837.000000+0.000000j    1394.538256+377.835486j   \n\n                            2                         3   \\\n604    2780.998370-314.501393j    -95.232404+974.907993j   \n1568   -395.257176-264.087456j    414.587609-396.763690j   \n480     184.449789+274.084637j  -469.358628+1785.635773j   \n108   4531.612275-7520.019901j -4080.701690-2898.602235j   \n1043  1015.351945-1482.910749j   -956.714034+378.087838j   \n...                        ...                       ...   \n930   -623.302006+1391.651449j     197.895388-79.756171j   \n46       13.561687-947.363405j   102.068237+1962.630588j   \n790    1226.853222-426.193825j   282.866656+3036.304591j   \n953   1414.301915-2535.269245j   578.927892-2683.123205j   \n1072    353.443066-445.711642j  -1592.789235-358.178666j   \n\n                            4                         5   \\\n604      -7.042932+428.575440j   1254.951227+967.647334j   \n1568     12.130984-292.276493j   1025.598694+740.955580j   \n480    -693.422669-809.701889j      86.445401+23.851638j   \n108  -2738.800868+2308.000154j  1443.230794-1032.970257j   \n1043  -248.368572-1807.166688j   473.861995-2616.534473j   \n...                        ...                       ...   \n930    269.440401-1094.541730j   -744.407385+177.529815j   \n46     -203.930122+150.435210j     658.196087+74.566679j   \n790  -4232.151600-2907.095646j  2744.391406+1380.490455j   \n953       594.816322+3.889325j  -1544.372681-172.920940j   \n1072   -455.893628-106.655407j   -966.455463-515.638628j   \n\n                           6                         7   \\\n604   -488.226042+259.083355j  1686.127980+1128.533854j   \n1568  -213.630160-171.334438j     1071.887885+4.065549j   \n480    277.969932-481.030995j   1052.821576+830.274887j   \n108  -263.459838-1571.638580j  -1158.145412+423.828856j   \n1043  709.911349-1669.181974j  -1161.120710+927.196686j   \n...                       ...                       ...   \n930    372.739896-499.815997j   1232.693521+220.169388j   \n46      71.827800-446.975428j   -764.468767+731.842634j   \n790   -131.195514-239.446678j    462.439438-999.345115j   \n953  -816.578516-1002.042296j  -1159.101694+242.366210j   \n1072   622.719570+340.621540j   -162.795155-943.489233j   \n\n                           8                        9   ...  \\\n604    784.057706+832.972955j   758.464779+303.061506j  ...   \n1568    122.956167+11.879631j  -197.115015-838.351261j  ...   \n480   858.871642+1322.690163j   766.846242+662.284864j  ...   \n108    -759.383942-26.361564j  -275.597712+918.851702j  ...   \n1043   236.824491-421.034211j  -366.919321-283.223812j  ...   \n...                       ...                      ...  ...   \n930   -1228.875175+56.022216j  -384.132343-424.631991j  ...   \n46     328.136282-929.558758j  -850.672242-665.367028j  ...   \n790   -60.741766-2451.677349j  536.281270+1333.531140j  ...   \n953  -422.072584-1815.271972j  -780.778204+466.777288j  ...   \n1072   -443.244142-19.693921j   187.789151+246.762124j  ...   \n\n                         80                      81                     82  \\\n604  -307.329255+50.109211j  -271.715524+73.322641j -285.592659+67.176458j   \n1568  -28.812135-24.499594j      8.833257+4.592628j   35.002237+12.656265j   \n480      6.798574+3.718442j    -7.580777+20.445611j   20.414104+10.904294j   \n108    25.374707-39.610004j    45.850375-10.426479j   28.789228-11.162034j   \n1043   17.095521+31.561462j  120.693796+128.447383j  38.284763-125.338522j   \n...                     ...                     ...                    ...   \n930    21.589043-15.436503j    52.086822+10.899734j   56.865256-18.388537j   \n46       3.511912-5.773200j   -21.302762-32.550169j   -45.595889-9.864502j   \n790    13.104367+18.257214j   -28.838710-23.160326j  -65.457755+86.191976j   \n953     78.298689+0.394558j    53.614551-34.330913j   60.227138-16.135897j   \n1072   -15.806639+8.149046j    43.574149+16.609876j    19.162287-7.058266j   \n\n                         83                     84                     85  \\\n604  -267.696435+53.696272j -285.193465+54.175212j -262.606740+47.992359j   \n1568    29.024643-5.525798j    -5.419846+0.586436j    1.743553-13.047884j   \n480    20.364895-26.337695j    -7.459384+0.943095j    24.210562-6.141698j   \n108     5.435982+45.768741j    29.491870-9.761595j   20.338212+18.961825j   \n1043  24.344030+133.216239j -157.397915+94.220606j   18.373604-66.492929j   \n...                     ...                    ...                    ...   \n930     51.825282-7.122598j   33.644640-25.796774j    41.393603-8.701162j   \n46     -19.753849-1.322027j  -19.659597-17.395378j    0.894073-12.853528j   \n790    -3.383257-26.886866j  -93.887003+34.040693j  -81.888564+60.106864j   \n953    90.848273-11.180504j    93.075411+1.865543j    63.863041-7.824432j   \n1072    35.581632+4.704350j   50.571061+35.995138j  -16.054746-12.762860j   \n\n                         86                    87                    88  \\\n604  -261.403229+34.129059j -257.378401+7.666345j -252.139731-2.213865j   \n1568   21.090029-22.364289j   11.964410-2.027536j   23.433118-6.635780j   \n480     22.170692+5.386839j   14.863870-5.242623j    4.592552+4.699494j   \n108    30.940568+23.769582j  32.053833+15.927478j   22.940768+4.697138j   \n1043   -27.723875-6.837443j  75.267507+40.259580j -52.278376-95.242595j   \n...                     ...                   ...                   ...   \n930    18.237049-17.813142j   51.849250+1.342216j   37.319872-6.076890j   \n46     -5.588398-22.540657j -15.681470-13.158548j   6.190644-27.341979j   \n790   -48.287558+55.305519j  32.742069+13.978292j -86.759819-77.007765j   \n953    72.136636-20.084143j   77.668720-8.815140j  98.704081-31.788379j   \n1072    3.979175+39.488064j   45.356455-2.883872j  29.376515+12.244953j   \n\n                        89  \n604  -230.000000+0.000000j  \n1568    9.000000+0.000000j  \n480    26.000000+0.000000j  \n108    51.000000+0.000000j  \n1043  -13.000000+0.000000j  \n...                    ...  \n930    37.000000+0.000000j  \n46     21.000000+0.000000j  \n790    -3.000000+0.000000j  \n953    92.000000+0.000000j  \n1072  -21.000000+0.000000j  \n\n[1600 rows x 90 columns]\n",
     "output_type": "error",
     "traceback": [
      "\u001b[1;31m---------------------------------------------------------------------------\u001b[0m",
      "\u001b[1;31mComplexWarning\u001b[0m                            Traceback (most recent call last)",
      "\u001b[1;32mc:\\program files\\python37\\lib\\site-packages\\sklearn\\utils\\validation.py\u001b[0m in \u001b[0;36mcheck_array\u001b[1;34m(array, accept_sparse, accept_large_sparse, dtype, order, copy, force_all_finite, ensure_2d, allow_nd, ensure_min_samples, ensure_min_features, warn_on_dtype, estimator)\u001b[0m\n\u001b[0;32m    514\u001b[0m                 \u001b[1;32melse\u001b[0m\u001b[1;33m:\u001b[0m\u001b[1;33m\u001b[0m\u001b[1;33m\u001b[0m\u001b[0m\n\u001b[1;32m--> 515\u001b[1;33m                     \u001b[0marray\u001b[0m \u001b[1;33m=\u001b[0m \u001b[0mnp\u001b[0m\u001b[1;33m.\u001b[0m\u001b[0masarray\u001b[0m\u001b[1;33m(\u001b[0m\u001b[0marray\u001b[0m\u001b[1;33m,\u001b[0m \u001b[0morder\u001b[0m\u001b[1;33m=\u001b[0m\u001b[0morder\u001b[0m\u001b[1;33m,\u001b[0m \u001b[0mdtype\u001b[0m\u001b[1;33m=\u001b[0m\u001b[0mdtype\u001b[0m\u001b[1;33m)\u001b[0m\u001b[1;33m\u001b[0m\u001b[1;33m\u001b[0m\u001b[0m\n\u001b[0m\u001b[0;32m    516\u001b[0m             \u001b[1;32mexcept\u001b[0m \u001b[0mComplexWarning\u001b[0m\u001b[1;33m:\u001b[0m\u001b[1;33m\u001b[0m\u001b[1;33m\u001b[0m\u001b[0m\n",
      "\u001b[1;32mc:\\program files\\python37\\lib\\site-packages\\numpy\\core\\_asarray.py\u001b[0m in \u001b[0;36masarray\u001b[1;34m(a, dtype, order)\u001b[0m\n\u001b[0;32m     84\u001b[0m     \"\"\"\n\u001b[1;32m---> 85\u001b[1;33m     \u001b[1;32mreturn\u001b[0m \u001b[0marray\u001b[0m\u001b[1;33m(\u001b[0m\u001b[0ma\u001b[0m\u001b[1;33m,\u001b[0m \u001b[0mdtype\u001b[0m\u001b[1;33m,\u001b[0m \u001b[0mcopy\u001b[0m\u001b[1;33m=\u001b[0m\u001b[1;32mFalse\u001b[0m\u001b[1;33m,\u001b[0m \u001b[0morder\u001b[0m\u001b[1;33m=\u001b[0m\u001b[0morder\u001b[0m\u001b[1;33m)\u001b[0m\u001b[1;33m\u001b[0m\u001b[1;33m\u001b[0m\u001b[0m\n\u001b[0m\u001b[0;32m     86\u001b[0m \u001b[1;33m\u001b[0m\u001b[0m\n",
      "\u001b[1;31mComplexWarning\u001b[0m: Casting complex values to real discards the imaginary part",
      "\nDuring handling of the above exception, another exception occurred:\n",
      "\u001b[1;31mValueError\u001b[0m                                Traceback (most recent call last)",
      "\u001b[1;32m<ipython-input-113-be6c54a4e428>\u001b[0m in \u001b[0;36m<module>\u001b[1;34m\u001b[0m\n\u001b[0;32m      1\u001b[0m \u001b[1;32mfrom\u001b[0m \u001b[0msklearn\u001b[0m\u001b[1;33m.\u001b[0m\u001b[0mpreprocessing\u001b[0m \u001b[1;32mimport\u001b[0m \u001b[0mStandardScaler\u001b[0m\u001b[1;33m\u001b[0m\u001b[1;33m\u001b[0m\u001b[0m\n\u001b[0;32m      2\u001b[0m \u001b[0mscaler\u001b[0m \u001b[1;33m=\u001b[0m \u001b[0mStandardScaler\u001b[0m\u001b[1;33m(\u001b[0m\u001b[1;33m)\u001b[0m\u001b[1;33m\u001b[0m\u001b[1;33m\u001b[0m\u001b[0m\n\u001b[1;32m----> 3\u001b[1;33m \u001b[0mscaler\u001b[0m\u001b[1;33m.\u001b[0m\u001b[0mfit\u001b[0m\u001b[1;33m(\u001b[0m\u001b[0mX_train\u001b[0m\u001b[1;33m)\u001b[0m\u001b[1;33m\u001b[0m\u001b[1;33m\u001b[0m\u001b[0m\n\u001b[0m\u001b[0;32m      4\u001b[0m \u001b[0mX_train\u001b[0m \u001b[1;33m=\u001b[0m \u001b[0mscaler\u001b[0m\u001b[1;33m.\u001b[0m\u001b[0mtransform\u001b[0m\u001b[1;33m(\u001b[0m\u001b[0mX_train\u001b[0m\u001b[1;33m)\u001b[0m\u001b[1;33m\u001b[0m\u001b[1;33m\u001b[0m\u001b[0m\n\u001b[0;32m      5\u001b[0m \u001b[0mX_test\u001b[0m \u001b[1;33m=\u001b[0m \u001b[0mscaler\u001b[0m\u001b[1;33m.\u001b[0m\u001b[0mtransform\u001b[0m\u001b[1;33m(\u001b[0m\u001b[0mX_test\u001b[0m\u001b[1;33m)\u001b[0m\u001b[1;33m\u001b[0m\u001b[1;33m\u001b[0m\u001b[0m\n",
      "\u001b[1;32mc:\\program files\\python37\\lib\\site-packages\\sklearn\\preprocessing\\_data.py\u001b[0m in \u001b[0;36mfit\u001b[1;34m(self, X, y)\u001b[0m\n\u001b[0;32m    667\u001b[0m         \u001b[1;31m# Reset internal state before fitting\u001b[0m\u001b[1;33m\u001b[0m\u001b[1;33m\u001b[0m\u001b[1;33m\u001b[0m\u001b[0m\n\u001b[0;32m    668\u001b[0m         \u001b[0mself\u001b[0m\u001b[1;33m.\u001b[0m\u001b[0m_reset\u001b[0m\u001b[1;33m(\u001b[0m\u001b[1;33m)\u001b[0m\u001b[1;33m\u001b[0m\u001b[1;33m\u001b[0m\u001b[0m\n\u001b[1;32m--> 669\u001b[1;33m         \u001b[1;32mreturn\u001b[0m \u001b[0mself\u001b[0m\u001b[1;33m.\u001b[0m\u001b[0mpartial_fit\u001b[0m\u001b[1;33m(\u001b[0m\u001b[0mX\u001b[0m\u001b[1;33m,\u001b[0m \u001b[0my\u001b[0m\u001b[1;33m)\u001b[0m\u001b[1;33m\u001b[0m\u001b[1;33m\u001b[0m\u001b[0m\n\u001b[0m\u001b[0;32m    670\u001b[0m \u001b[1;33m\u001b[0m\u001b[0m\n\u001b[0;32m    671\u001b[0m     \u001b[1;32mdef\u001b[0m \u001b[0mpartial_fit\u001b[0m\u001b[1;33m(\u001b[0m\u001b[0mself\u001b[0m\u001b[1;33m,\u001b[0m \u001b[0mX\u001b[0m\u001b[1;33m,\u001b[0m \u001b[0my\u001b[0m\u001b[1;33m=\u001b[0m\u001b[1;32mNone\u001b[0m\u001b[1;33m)\u001b[0m\u001b[1;33m:\u001b[0m\u001b[1;33m\u001b[0m\u001b[1;33m\u001b[0m\u001b[0m\n",
      "\u001b[1;32mc:\\program files\\python37\\lib\\site-packages\\sklearn\\preprocessing\\_data.py\u001b[0m in \u001b[0;36mpartial_fit\u001b[1;34m(self, X, y)\u001b[0m\n\u001b[0;32m    698\u001b[0m         X = check_array(X, accept_sparse=('csr', 'csc'),\n\u001b[0;32m    699\u001b[0m                         \u001b[0mestimator\u001b[0m\u001b[1;33m=\u001b[0m\u001b[0mself\u001b[0m\u001b[1;33m,\u001b[0m \u001b[0mdtype\u001b[0m\u001b[1;33m=\u001b[0m\u001b[0mFLOAT_DTYPES\u001b[0m\u001b[1;33m,\u001b[0m\u001b[1;33m\u001b[0m\u001b[1;33m\u001b[0m\u001b[0m\n\u001b[1;32m--> 700\u001b[1;33m                         force_all_finite='allow-nan')\n\u001b[0m\u001b[0;32m    701\u001b[0m \u001b[1;33m\u001b[0m\u001b[0m\n\u001b[0;32m    702\u001b[0m         \u001b[1;31m# Even in the case of `with_mean=False`, we update the mean anyway\u001b[0m\u001b[1;33m\u001b[0m\u001b[1;33m\u001b[0m\u001b[1;33m\u001b[0m\u001b[0m\n",
      "\u001b[1;32mc:\\program files\\python37\\lib\\site-packages\\sklearn\\utils\\validation.py\u001b[0m in \u001b[0;36mcheck_array\u001b[1;34m(array, accept_sparse, accept_large_sparse, dtype, order, copy, force_all_finite, ensure_2d, allow_nd, ensure_min_samples, ensure_min_features, warn_on_dtype, estimator)\u001b[0m\n\u001b[0;32m    516\u001b[0m             \u001b[1;32mexcept\u001b[0m \u001b[0mComplexWarning\u001b[0m\u001b[1;33m:\u001b[0m\u001b[1;33m\u001b[0m\u001b[1;33m\u001b[0m\u001b[0m\n\u001b[0;32m    517\u001b[0m                 raise ValueError(\"Complex data not supported\\n\"\n\u001b[1;32m--> 518\u001b[1;33m                                  \"{}\\n\".format(array))\n\u001b[0m\u001b[0;32m    519\u001b[0m \u001b[1;33m\u001b[0m\u001b[0m\n\u001b[0;32m    520\u001b[0m         \u001b[1;31m# It is possible that the np.array(..) gave no warning. This happens\u001b[0m\u001b[1;33m\u001b[0m\u001b[1;33m\u001b[0m\u001b[1;33m\u001b[0m\u001b[0m\n",
      "\u001b[1;31mValueError\u001b[0m: Complex data not supported\n                         0                          1   \\\n604  -8788.000000+0.000000j  5708.328329+10134.672561j   \n1568 -9395.000000+0.000000j   2334.869603-1870.300580j   \n480  -1156.000000+0.000000j    -504.991841+635.717354j   \n108   5865.000000+0.000000j  -6696.191849+6034.735151j   \n1043 -2875.000000+0.000000j   1430.796942-1006.132391j   \n...                     ...                        ...   \n930  -4671.000000+0.000000j   1254.695202-3708.271958j   \n46     855.000000+0.000000j    678.669892+1956.327346j   \n790  -5963.000000+0.000000j   -777.201745-1412.382335j   \n953   -892.000000+0.000000j     -269.207770+79.801160j   \n1072 -5837.000000+0.000000j    1394.538256+377.835486j   \n\n                            2                         3   \\\n604    2780.998370-314.501393j    -95.232404+974.907993j   \n1568   -395.257176-264.087456j    414.587609-396.763690j   \n480     184.449789+274.084637j  -469.358628+1785.635773j   \n108   4531.612275-7520.019901j -4080.701690-2898.602235j   \n1043  1015.351945-1482.910749j   -956.714034+378.087838j   \n...                        ...                       ...   \n930   -623.302006+1391.651449j     197.895388-79.756171j   \n46       13.561687-947.363405j   102.068237+1962.630588j   \n790    1226.853222-426.193825j   282.866656+3036.304591j   \n953   1414.301915-2535.269245j   578.927892-2683.123205j   \n1072    353.443066-445.711642j  -1592.789235-358.178666j   \n\n                            4                         5   \\\n604      -7.042932+428.575440j   1254.951227+967.647334j   \n1568     12.130984-292.276493j   1025.598694+740.955580j   \n480    -693.422669-809.701889j      86.445401+23.851638j   \n108  -2738.800868+2308.000154j  1443.230794-1032.970257j   \n1043  -248.368572-1807.166688j   473.861995-2616.534473j   \n...                        ...                       ...   \n930    269.440401-1094.541730j   -744.407385+177.529815j   \n46     -203.930122+150.435210j     658.196087+74.566679j   \n790  -4232.151600-2907.095646j  2744.391406+1380.490455j   \n953       594.816322+3.889325j  -1544.372681-172.920940j   \n1072   -455.893628-106.655407j   -966.455463-515.638628j   \n\n                           6                         7   \\\n604   -488.226042+259.083355j  1686.127980+1128.533854j   \n1568  -213.630160-171.334438j     1071.887885+4.065549j   \n480    277.969932-481.030995j   1052.821576+830.274887j   \n108  -263.459838-1571.638580j  -1158.145412+423.828856j   \n1043  709.911349-1669.181974j  -1161.120710+927.196686j   \n...                       ...                       ...   \n930    372.739896-499.815997j   1232.693521+220.169388j   \n46      71.827800-446.975428j   -764.468767+731.842634j   \n790   -131.195514-239.446678j    462.439438-999.345115j   \n953  -816.578516-1002.042296j  -1159.101694+242.366210j   \n1072   622.719570+340.621540j   -162.795155-943.489233j   \n\n                           8                        9   ...  \\\n604    784.057706+832.972955j   758.464779+303.061506j  ...   \n1568    122.956167+11.879631j  -197.115015-838.351261j  ...   \n480   858.871642+1322.690163j   766.846242+662.284864j  ...   \n108    -759.383942-26.361564j  -275.597712+918.851702j  ...   \n1043   236.824491-421.034211j  -366.919321-283.223812j  ...   \n...                       ...                      ...  ...   \n930   -1228.875175+56.022216j  -384.132343-424.631991j  ...   \n46     328.136282-929.558758j  -850.672242-665.367028j  ...   \n790   -60.741766-2451.677349j  536.281270+1333.531140j  ...   \n953  -422.072584-1815.271972j  -780.778204+466.777288j  ...   \n1072   -443.244142-19.693921j   187.789151+246.762124j  ...   \n\n                         80                      81                     82  \\\n604  -307.329255+50.109211j  -271.715524+73.322641j -285.592659+67.176458j   \n1568  -28.812135-24.499594j      8.833257+4.592628j   35.002237+12.656265j   \n480      6.798574+3.718442j    -7.580777+20.445611j   20.414104+10.904294j   \n108    25.374707-39.610004j    45.850375-10.426479j   28.789228-11.162034j   \n1043   17.095521+31.561462j  120.693796+128.447383j  38.284763-125.338522j   \n...                     ...                     ...                    ...   \n930    21.589043-15.436503j    52.086822+10.899734j   56.865256-18.388537j   \n46       3.511912-5.773200j   -21.302762-32.550169j   -45.595889-9.864502j   \n790    13.104367+18.257214j   -28.838710-23.160326j  -65.457755+86.191976j   \n953     78.298689+0.394558j    53.614551-34.330913j   60.227138-16.135897j   \n1072   -15.806639+8.149046j    43.574149+16.609876j    19.162287-7.058266j   \n\n                         83                     84                     85  \\\n604  -267.696435+53.696272j -285.193465+54.175212j -262.606740+47.992359j   \n1568    29.024643-5.525798j    -5.419846+0.586436j    1.743553-13.047884j   \n480    20.364895-26.337695j    -7.459384+0.943095j    24.210562-6.141698j   \n108     5.435982+45.768741j    29.491870-9.761595j   20.338212+18.961825j   \n1043  24.344030+133.216239j -157.397915+94.220606j   18.373604-66.492929j   \n...                     ...                    ...                    ...   \n930     51.825282-7.122598j   33.644640-25.796774j    41.393603-8.701162j   \n46     -19.753849-1.322027j  -19.659597-17.395378j    0.894073-12.853528j   \n790    -3.383257-26.886866j  -93.887003+34.040693j  -81.888564+60.106864j   \n953    90.848273-11.180504j    93.075411+1.865543j    63.863041-7.824432j   \n1072    35.581632+4.704350j   50.571061+35.995138j  -16.054746-12.762860j   \n\n                         86                    87                    88  \\\n604  -261.403229+34.129059j -257.378401+7.666345j -252.139731-2.213865j   \n1568   21.090029-22.364289j   11.964410-2.027536j   23.433118-6.635780j   \n480     22.170692+5.386839j   14.863870-5.242623j    4.592552+4.699494j   \n108    30.940568+23.769582j  32.053833+15.927478j   22.940768+4.697138j   \n1043   -27.723875-6.837443j  75.267507+40.259580j -52.278376-95.242595j   \n...                     ...                   ...                   ...   \n930    18.237049-17.813142j   51.849250+1.342216j   37.319872-6.076890j   \n46     -5.588398-22.540657j -15.681470-13.158548j   6.190644-27.341979j   \n790   -48.287558+55.305519j  32.742069+13.978292j -86.759819-77.007765j   \n953    72.136636-20.084143j   77.668720-8.815140j  98.704081-31.788379j   \n1072    3.979175+39.488064j   45.356455-2.883872j  29.376515+12.244953j   \n\n                        89  \n604  -230.000000+0.000000j  \n1568    9.000000+0.000000j  \n480    26.000000+0.000000j  \n108    51.000000+0.000000j  \n1043  -13.000000+0.000000j  \n...                    ...  \n930    37.000000+0.000000j  \n46     21.000000+0.000000j  \n790    -3.000000+0.000000j  \n953    92.000000+0.000000j  \n1072  -21.000000+0.000000j  \n\n[1600 rows x 90 columns]\n"
     ]
    }
   ],
   "source": [
    "from sklearn.preprocessing import StandardScaler\n",
    "scaler = StandardScaler()\n",
    "scaler.fit(X_train) \n",
    "X_train = scaler.transform(X_train)\n",
    "X_test = scaler.transform(X_test) "
   ]
  },
  {
   "cell_type": "code",
   "execution_count": 111,
   "metadata": {
    "collapsed": true,
    "jupyter": {
     "outputs_hidden": true
    }
   },
   "outputs": [
    {
     "ename": "ValueError",
     "evalue": "Complex data not supported\n                         0                          1   \\\n604  -8788.000000+0.000000j  5708.328329+10134.672561j   \n1568 -9395.000000+0.000000j   2334.869603-1870.300580j   \n480  -1156.000000+0.000000j    -504.991841+635.717354j   \n108   5865.000000+0.000000j  -6696.191849+6034.735151j   \n1043 -2875.000000+0.000000j   1430.796942-1006.132391j   \n...                     ...                        ...   \n930  -4671.000000+0.000000j   1254.695202-3708.271958j   \n46     855.000000+0.000000j    678.669892+1956.327346j   \n790  -5963.000000+0.000000j   -777.201745-1412.382335j   \n953   -892.000000+0.000000j     -269.207770+79.801160j   \n1072 -5837.000000+0.000000j    1394.538256+377.835486j   \n\n                            2                         3   \\\n604    2780.998370-314.501393j    -95.232404+974.907993j   \n1568   -395.257176-264.087456j    414.587609-396.763690j   \n480     184.449789+274.084637j  -469.358628+1785.635773j   \n108   4531.612275-7520.019901j -4080.701690-2898.602235j   \n1043  1015.351945-1482.910749j   -956.714034+378.087838j   \n...                        ...                       ...   \n930   -623.302006+1391.651449j     197.895388-79.756171j   \n46       13.561687-947.363405j   102.068237+1962.630588j   \n790    1226.853222-426.193825j   282.866656+3036.304591j   \n953   1414.301915-2535.269245j   578.927892-2683.123205j   \n1072    353.443066-445.711642j  -1592.789235-358.178666j   \n\n                            4                         5   \\\n604      -7.042932+428.575440j   1254.951227+967.647334j   \n1568     12.130984-292.276493j   1025.598694+740.955580j   \n480    -693.422669-809.701889j      86.445401+23.851638j   \n108  -2738.800868+2308.000154j  1443.230794-1032.970257j   \n1043  -248.368572-1807.166688j   473.861995-2616.534473j   \n...                        ...                       ...   \n930    269.440401-1094.541730j   -744.407385+177.529815j   \n46     -203.930122+150.435210j     658.196087+74.566679j   \n790  -4232.151600-2907.095646j  2744.391406+1380.490455j   \n953       594.816322+3.889325j  -1544.372681-172.920940j   \n1072   -455.893628-106.655407j   -966.455463-515.638628j   \n\n                           6                         7   \\\n604   -488.226042+259.083355j  1686.127980+1128.533854j   \n1568  -213.630160-171.334438j     1071.887885+4.065549j   \n480    277.969932-481.030995j   1052.821576+830.274887j   \n108  -263.459838-1571.638580j  -1158.145412+423.828856j   \n1043  709.911349-1669.181974j  -1161.120710+927.196686j   \n...                       ...                       ...   \n930    372.739896-499.815997j   1232.693521+220.169388j   \n46      71.827800-446.975428j   -764.468767+731.842634j   \n790   -131.195514-239.446678j    462.439438-999.345115j   \n953  -816.578516-1002.042296j  -1159.101694+242.366210j   \n1072   622.719570+340.621540j   -162.795155-943.489233j   \n\n                           8                        9   ...  \\\n604    784.057706+832.972955j   758.464779+303.061506j  ...   \n1568    122.956167+11.879631j  -197.115015-838.351261j  ...   \n480   858.871642+1322.690163j   766.846242+662.284864j  ...   \n108    -759.383942-26.361564j  -275.597712+918.851702j  ...   \n1043   236.824491-421.034211j  -366.919321-283.223812j  ...   \n...                       ...                      ...  ...   \n930   -1228.875175+56.022216j  -384.132343-424.631991j  ...   \n46     328.136282-929.558758j  -850.672242-665.367028j  ...   \n790   -60.741766-2451.677349j  536.281270+1333.531140j  ...   \n953  -422.072584-1815.271972j  -780.778204+466.777288j  ...   \n1072   -443.244142-19.693921j   187.789151+246.762124j  ...   \n\n                         80                      81                     82  \\\n604  -307.329255+50.109211j  -271.715524+73.322641j -285.592659+67.176458j   \n1568  -28.812135-24.499594j      8.833257+4.592628j   35.002237+12.656265j   \n480      6.798574+3.718442j    -7.580777+20.445611j   20.414104+10.904294j   \n108    25.374707-39.610004j    45.850375-10.426479j   28.789228-11.162034j   \n1043   17.095521+31.561462j  120.693796+128.447383j  38.284763-125.338522j   \n...                     ...                     ...                    ...   \n930    21.589043-15.436503j    52.086822+10.899734j   56.865256-18.388537j   \n46       3.511912-5.773200j   -21.302762-32.550169j   -45.595889-9.864502j   \n790    13.104367+18.257214j   -28.838710-23.160326j  -65.457755+86.191976j   \n953     78.298689+0.394558j    53.614551-34.330913j   60.227138-16.135897j   \n1072   -15.806639+8.149046j    43.574149+16.609876j    19.162287-7.058266j   \n\n                         83                     84                     85  \\\n604  -267.696435+53.696272j -285.193465+54.175212j -262.606740+47.992359j   \n1568    29.024643-5.525798j    -5.419846+0.586436j    1.743553-13.047884j   \n480    20.364895-26.337695j    -7.459384+0.943095j    24.210562-6.141698j   \n108     5.435982+45.768741j    29.491870-9.761595j   20.338212+18.961825j   \n1043  24.344030+133.216239j -157.397915+94.220606j   18.373604-66.492929j   \n...                     ...                    ...                    ...   \n930     51.825282-7.122598j   33.644640-25.796774j    41.393603-8.701162j   \n46     -19.753849-1.322027j  -19.659597-17.395378j    0.894073-12.853528j   \n790    -3.383257-26.886866j  -93.887003+34.040693j  -81.888564+60.106864j   \n953    90.848273-11.180504j    93.075411+1.865543j    63.863041-7.824432j   \n1072    35.581632+4.704350j   50.571061+35.995138j  -16.054746-12.762860j   \n\n                         86                    87                    88  \\\n604  -261.403229+34.129059j -257.378401+7.666345j -252.139731-2.213865j   \n1568   21.090029-22.364289j   11.964410-2.027536j   23.433118-6.635780j   \n480     22.170692+5.386839j   14.863870-5.242623j    4.592552+4.699494j   \n108    30.940568+23.769582j  32.053833+15.927478j   22.940768+4.697138j   \n1043   -27.723875-6.837443j  75.267507+40.259580j -52.278376-95.242595j   \n...                     ...                   ...                   ...   \n930    18.237049-17.813142j   51.849250+1.342216j   37.319872-6.076890j   \n46     -5.588398-22.540657j -15.681470-13.158548j   6.190644-27.341979j   \n790   -48.287558+55.305519j  32.742069+13.978292j -86.759819-77.007765j   \n953    72.136636-20.084143j   77.668720-8.815140j  98.704081-31.788379j   \n1072    3.979175+39.488064j   45.356455-2.883872j  29.376515+12.244953j   \n\n                        89  \n604  -230.000000+0.000000j  \n1568    9.000000+0.000000j  \n480    26.000000+0.000000j  \n108    51.000000+0.000000j  \n1043  -13.000000+0.000000j  \n...                    ...  \n930    37.000000+0.000000j  \n46     21.000000+0.000000j  \n790    -3.000000+0.000000j  \n953    92.000000+0.000000j  \n1072  -21.000000+0.000000j  \n\n[1600 rows x 90 columns]\n",
     "output_type": "error",
     "traceback": [
      "\u001b[1;31m---------------------------------------------------------------------------\u001b[0m",
      "\u001b[1;31mComplexWarning\u001b[0m                            Traceback (most recent call last)",
      "\u001b[1;32mc:\\program files\\python37\\lib\\site-packages\\sklearn\\utils\\validation.py\u001b[0m in \u001b[0;36mcheck_array\u001b[1;34m(array, accept_sparse, accept_large_sparse, dtype, order, copy, force_all_finite, ensure_2d, allow_nd, ensure_min_samples, ensure_min_features, warn_on_dtype, estimator)\u001b[0m\n\u001b[0;32m    514\u001b[0m                 \u001b[1;32melse\u001b[0m\u001b[1;33m:\u001b[0m\u001b[1;33m\u001b[0m\u001b[1;33m\u001b[0m\u001b[0m\n\u001b[1;32m--> 515\u001b[1;33m                     \u001b[0marray\u001b[0m \u001b[1;33m=\u001b[0m \u001b[0mnp\u001b[0m\u001b[1;33m.\u001b[0m\u001b[0masarray\u001b[0m\u001b[1;33m(\u001b[0m\u001b[0marray\u001b[0m\u001b[1;33m,\u001b[0m \u001b[0morder\u001b[0m\u001b[1;33m=\u001b[0m\u001b[0morder\u001b[0m\u001b[1;33m,\u001b[0m \u001b[0mdtype\u001b[0m\u001b[1;33m=\u001b[0m\u001b[0mdtype\u001b[0m\u001b[1;33m)\u001b[0m\u001b[1;33m\u001b[0m\u001b[1;33m\u001b[0m\u001b[0m\n\u001b[0m\u001b[0;32m    516\u001b[0m             \u001b[1;32mexcept\u001b[0m \u001b[0mComplexWarning\u001b[0m\u001b[1;33m:\u001b[0m\u001b[1;33m\u001b[0m\u001b[1;33m\u001b[0m\u001b[0m\n",
      "\u001b[1;32mc:\\program files\\python37\\lib\\site-packages\\numpy\\core\\_asarray.py\u001b[0m in \u001b[0;36masarray\u001b[1;34m(a, dtype, order)\u001b[0m\n\u001b[0;32m     84\u001b[0m     \"\"\"\n\u001b[1;32m---> 85\u001b[1;33m     \u001b[1;32mreturn\u001b[0m \u001b[0marray\u001b[0m\u001b[1;33m(\u001b[0m\u001b[0ma\u001b[0m\u001b[1;33m,\u001b[0m \u001b[0mdtype\u001b[0m\u001b[1;33m,\u001b[0m \u001b[0mcopy\u001b[0m\u001b[1;33m=\u001b[0m\u001b[1;32mFalse\u001b[0m\u001b[1;33m,\u001b[0m \u001b[0morder\u001b[0m\u001b[1;33m=\u001b[0m\u001b[0morder\u001b[0m\u001b[1;33m)\u001b[0m\u001b[1;33m\u001b[0m\u001b[1;33m\u001b[0m\u001b[0m\n\u001b[0m\u001b[0;32m     86\u001b[0m \u001b[1;33m\u001b[0m\u001b[0m\n",
      "\u001b[1;31mComplexWarning\u001b[0m: Casting complex values to real discards the imaginary part",
      "\nDuring handling of the above exception, another exception occurred:\n",
      "\u001b[1;31mValueError\u001b[0m                                Traceback (most recent call last)",
      "\u001b[1;32m<ipython-input-111-41b5f25551e2>\u001b[0m in \u001b[0;36m<module>\u001b[1;34m\u001b[0m\n\u001b[0;32m      2\u001b[0m \u001b[1;32mfrom\u001b[0m \u001b[0msklearn\u001b[0m \u001b[1;32mimport\u001b[0m \u001b[0msvm\u001b[0m\u001b[1;33m\u001b[0m\u001b[1;33m\u001b[0m\u001b[0m\n\u001b[0;32m      3\u001b[0m \u001b[0mmodelSVM\u001b[0m \u001b[1;33m=\u001b[0m \u001b[0msvm\u001b[0m\u001b[1;33m.\u001b[0m\u001b[0mSVC\u001b[0m\u001b[1;33m(\u001b[0m\u001b[0mgamma\u001b[0m\u001b[1;33m=\u001b[0m\u001b[1;36m0.001\u001b[0m\u001b[1;33m,\u001b[0m \u001b[0mC\u001b[0m\u001b[1;33m=\u001b[0m\u001b[1;36m100.\u001b[0m\u001b[1;33m)\u001b[0m\u001b[1;33m\u001b[0m\u001b[1;33m\u001b[0m\u001b[0m\n\u001b[1;32m----> 4\u001b[1;33m \u001b[0mmodelSVM\u001b[0m\u001b[1;33m.\u001b[0m\u001b[0mfit\u001b[0m\u001b[1;33m(\u001b[0m\u001b[0mX_train\u001b[0m\u001b[1;33m,\u001b[0m \u001b[0my_train\u001b[0m\u001b[1;33m)\u001b[0m\u001b[1;33m\u001b[0m\u001b[1;33m\u001b[0m\u001b[0m\n\u001b[0m\u001b[0;32m      5\u001b[0m \u001b[0mprint\u001b[0m\u001b[1;33m(\u001b[0m\u001b[0mclassification_report\u001b[0m\u001b[1;33m(\u001b[0m\u001b[0my_test\u001b[0m\u001b[1;33m,\u001b[0m\u001b[0mmodelSVM\u001b[0m\u001b[1;33m.\u001b[0m\u001b[0mpredict\u001b[0m\u001b[1;33m(\u001b[0m\u001b[0mX_test\u001b[0m\u001b[1;33m)\u001b[0m\u001b[1;33m)\u001b[0m\u001b[1;33m)\u001b[0m\u001b[1;33m\u001b[0m\u001b[1;33m\u001b[0m\u001b[0m\n",
      "\u001b[1;32mc:\\program files\\python37\\lib\\site-packages\\sklearn\\svm\\_base.py\u001b[0m in \u001b[0;36mfit\u001b[1;34m(self, X, y, sample_weight)\u001b[0m\n\u001b[0;32m    146\u001b[0m         X, y = check_X_y(X, y, dtype=np.float64,\n\u001b[0;32m    147\u001b[0m                          \u001b[0morder\u001b[0m\u001b[1;33m=\u001b[0m\u001b[1;34m'C'\u001b[0m\u001b[1;33m,\u001b[0m \u001b[0maccept_sparse\u001b[0m\u001b[1;33m=\u001b[0m\u001b[1;34m'csr'\u001b[0m\u001b[1;33m,\u001b[0m\u001b[1;33m\u001b[0m\u001b[1;33m\u001b[0m\u001b[0m\n\u001b[1;32m--> 148\u001b[1;33m                          accept_large_sparse=False)\n\u001b[0m\u001b[0;32m    149\u001b[0m         \u001b[0my\u001b[0m \u001b[1;33m=\u001b[0m \u001b[0mself\u001b[0m\u001b[1;33m.\u001b[0m\u001b[0m_validate_targets\u001b[0m\u001b[1;33m(\u001b[0m\u001b[0my\u001b[0m\u001b[1;33m)\u001b[0m\u001b[1;33m\u001b[0m\u001b[1;33m\u001b[0m\u001b[0m\n\u001b[0;32m    150\u001b[0m \u001b[1;33m\u001b[0m\u001b[0m\n",
      "\u001b[1;32mc:\\program files\\python37\\lib\\site-packages\\sklearn\\utils\\validation.py\u001b[0m in \u001b[0;36mcheck_X_y\u001b[1;34m(X, y, accept_sparse, accept_large_sparse, dtype, order, copy, force_all_finite, ensure_2d, allow_nd, multi_output, ensure_min_samples, ensure_min_features, y_numeric, warn_on_dtype, estimator)\u001b[0m\n\u001b[0;32m    737\u001b[0m                     \u001b[0mensure_min_features\u001b[0m\u001b[1;33m=\u001b[0m\u001b[0mensure_min_features\u001b[0m\u001b[1;33m,\u001b[0m\u001b[1;33m\u001b[0m\u001b[1;33m\u001b[0m\u001b[0m\n\u001b[0;32m    738\u001b[0m                     \u001b[0mwarn_on_dtype\u001b[0m\u001b[1;33m=\u001b[0m\u001b[0mwarn_on_dtype\u001b[0m\u001b[1;33m,\u001b[0m\u001b[1;33m\u001b[0m\u001b[1;33m\u001b[0m\u001b[0m\n\u001b[1;32m--> 739\u001b[1;33m                     estimator=estimator)\n\u001b[0m\u001b[0;32m    740\u001b[0m     \u001b[1;32mif\u001b[0m \u001b[0mmulti_output\u001b[0m\u001b[1;33m:\u001b[0m\u001b[1;33m\u001b[0m\u001b[1;33m\u001b[0m\u001b[0m\n\u001b[0;32m    741\u001b[0m         y = check_array(y, 'csr', force_all_finite=True, ensure_2d=False,\n",
      "\u001b[1;32mc:\\program files\\python37\\lib\\site-packages\\sklearn\\utils\\validation.py\u001b[0m in \u001b[0;36mcheck_array\u001b[1;34m(array, accept_sparse, accept_large_sparse, dtype, order, copy, force_all_finite, ensure_2d, allow_nd, ensure_min_samples, ensure_min_features, warn_on_dtype, estimator)\u001b[0m\n\u001b[0;32m    516\u001b[0m             \u001b[1;32mexcept\u001b[0m \u001b[0mComplexWarning\u001b[0m\u001b[1;33m:\u001b[0m\u001b[1;33m\u001b[0m\u001b[1;33m\u001b[0m\u001b[0m\n\u001b[0;32m    517\u001b[0m                 raise ValueError(\"Complex data not supported\\n\"\n\u001b[1;32m--> 518\u001b[1;33m                                  \"{}\\n\".format(array))\n\u001b[0m\u001b[0;32m    519\u001b[0m \u001b[1;33m\u001b[0m\u001b[0m\n\u001b[0;32m    520\u001b[0m         \u001b[1;31m# It is possible that the np.array(..) gave no warning. This happens\u001b[0m\u001b[1;33m\u001b[0m\u001b[1;33m\u001b[0m\u001b[1;33m\u001b[0m\u001b[0m\n",
      "\u001b[1;31mValueError\u001b[0m: Complex data not supported\n                         0                          1   \\\n604  -8788.000000+0.000000j  5708.328329+10134.672561j   \n1568 -9395.000000+0.000000j   2334.869603-1870.300580j   \n480  -1156.000000+0.000000j    -504.991841+635.717354j   \n108   5865.000000+0.000000j  -6696.191849+6034.735151j   \n1043 -2875.000000+0.000000j   1430.796942-1006.132391j   \n...                     ...                        ...   \n930  -4671.000000+0.000000j   1254.695202-3708.271958j   \n46     855.000000+0.000000j    678.669892+1956.327346j   \n790  -5963.000000+0.000000j   -777.201745-1412.382335j   \n953   -892.000000+0.000000j     -269.207770+79.801160j   \n1072 -5837.000000+0.000000j    1394.538256+377.835486j   \n\n                            2                         3   \\\n604    2780.998370-314.501393j    -95.232404+974.907993j   \n1568   -395.257176-264.087456j    414.587609-396.763690j   \n480     184.449789+274.084637j  -469.358628+1785.635773j   \n108   4531.612275-7520.019901j -4080.701690-2898.602235j   \n1043  1015.351945-1482.910749j   -956.714034+378.087838j   \n...                        ...                       ...   \n930   -623.302006+1391.651449j     197.895388-79.756171j   \n46       13.561687-947.363405j   102.068237+1962.630588j   \n790    1226.853222-426.193825j   282.866656+3036.304591j   \n953   1414.301915-2535.269245j   578.927892-2683.123205j   \n1072    353.443066-445.711642j  -1592.789235-358.178666j   \n\n                            4                         5   \\\n604      -7.042932+428.575440j   1254.951227+967.647334j   \n1568     12.130984-292.276493j   1025.598694+740.955580j   \n480    -693.422669-809.701889j      86.445401+23.851638j   \n108  -2738.800868+2308.000154j  1443.230794-1032.970257j   \n1043  -248.368572-1807.166688j   473.861995-2616.534473j   \n...                        ...                       ...   \n930    269.440401-1094.541730j   -744.407385+177.529815j   \n46     -203.930122+150.435210j     658.196087+74.566679j   \n790  -4232.151600-2907.095646j  2744.391406+1380.490455j   \n953       594.816322+3.889325j  -1544.372681-172.920940j   \n1072   -455.893628-106.655407j   -966.455463-515.638628j   \n\n                           6                         7   \\\n604   -488.226042+259.083355j  1686.127980+1128.533854j   \n1568  -213.630160-171.334438j     1071.887885+4.065549j   \n480    277.969932-481.030995j   1052.821576+830.274887j   \n108  -263.459838-1571.638580j  -1158.145412+423.828856j   \n1043  709.911349-1669.181974j  -1161.120710+927.196686j   \n...                       ...                       ...   \n930    372.739896-499.815997j   1232.693521+220.169388j   \n46      71.827800-446.975428j   -764.468767+731.842634j   \n790   -131.195514-239.446678j    462.439438-999.345115j   \n953  -816.578516-1002.042296j  -1159.101694+242.366210j   \n1072   622.719570+340.621540j   -162.795155-943.489233j   \n\n                           8                        9   ...  \\\n604    784.057706+832.972955j   758.464779+303.061506j  ...   \n1568    122.956167+11.879631j  -197.115015-838.351261j  ...   \n480   858.871642+1322.690163j   766.846242+662.284864j  ...   \n108    -759.383942-26.361564j  -275.597712+918.851702j  ...   \n1043   236.824491-421.034211j  -366.919321-283.223812j  ...   \n...                       ...                      ...  ...   \n930   -1228.875175+56.022216j  -384.132343-424.631991j  ...   \n46     328.136282-929.558758j  -850.672242-665.367028j  ...   \n790   -60.741766-2451.677349j  536.281270+1333.531140j  ...   \n953  -422.072584-1815.271972j  -780.778204+466.777288j  ...   \n1072   -443.244142-19.693921j   187.789151+246.762124j  ...   \n\n                         80                      81                     82  \\\n604  -307.329255+50.109211j  -271.715524+73.322641j -285.592659+67.176458j   \n1568  -28.812135-24.499594j      8.833257+4.592628j   35.002237+12.656265j   \n480      6.798574+3.718442j    -7.580777+20.445611j   20.414104+10.904294j   \n108    25.374707-39.610004j    45.850375-10.426479j   28.789228-11.162034j   \n1043   17.095521+31.561462j  120.693796+128.447383j  38.284763-125.338522j   \n...                     ...                     ...                    ...   \n930    21.589043-15.436503j    52.086822+10.899734j   56.865256-18.388537j   \n46       3.511912-5.773200j   -21.302762-32.550169j   -45.595889-9.864502j   \n790    13.104367+18.257214j   -28.838710-23.160326j  -65.457755+86.191976j   \n953     78.298689+0.394558j    53.614551-34.330913j   60.227138-16.135897j   \n1072   -15.806639+8.149046j    43.574149+16.609876j    19.162287-7.058266j   \n\n                         83                     84                     85  \\\n604  -267.696435+53.696272j -285.193465+54.175212j -262.606740+47.992359j   \n1568    29.024643-5.525798j    -5.419846+0.586436j    1.743553-13.047884j   \n480    20.364895-26.337695j    -7.459384+0.943095j    24.210562-6.141698j   \n108     5.435982+45.768741j    29.491870-9.761595j   20.338212+18.961825j   \n1043  24.344030+133.216239j -157.397915+94.220606j   18.373604-66.492929j   \n...                     ...                    ...                    ...   \n930     51.825282-7.122598j   33.644640-25.796774j    41.393603-8.701162j   \n46     -19.753849-1.322027j  -19.659597-17.395378j    0.894073-12.853528j   \n790    -3.383257-26.886866j  -93.887003+34.040693j  -81.888564+60.106864j   \n953    90.848273-11.180504j    93.075411+1.865543j    63.863041-7.824432j   \n1072    35.581632+4.704350j   50.571061+35.995138j  -16.054746-12.762860j   \n\n                         86                    87                    88  \\\n604  -261.403229+34.129059j -257.378401+7.666345j -252.139731-2.213865j   \n1568   21.090029-22.364289j   11.964410-2.027536j   23.433118-6.635780j   \n480     22.170692+5.386839j   14.863870-5.242623j    4.592552+4.699494j   \n108    30.940568+23.769582j  32.053833+15.927478j   22.940768+4.697138j   \n1043   -27.723875-6.837443j  75.267507+40.259580j -52.278376-95.242595j   \n...                     ...                   ...                   ...   \n930    18.237049-17.813142j   51.849250+1.342216j   37.319872-6.076890j   \n46     -5.588398-22.540657j -15.681470-13.158548j   6.190644-27.341979j   \n790   -48.287558+55.305519j  32.742069+13.978292j -86.759819-77.007765j   \n953    72.136636-20.084143j   77.668720-8.815140j  98.704081-31.788379j   \n1072    3.979175+39.488064j   45.356455-2.883872j  29.376515+12.244953j   \n\n                        89  \n604  -230.000000+0.000000j  \n1568    9.000000+0.000000j  \n480    26.000000+0.000000j  \n108    51.000000+0.000000j  \n1043  -13.000000+0.000000j  \n...                    ...  \n930    37.000000+0.000000j  \n46     21.000000+0.000000j  \n790    -3.000000+0.000000j  \n953    92.000000+0.000000j  \n1072  -21.000000+0.000000j  \n\n[1600 rows x 90 columns]\n"
     ]
    }
   ],
   "source": [
    "##SVM \n",
    "from sklearn import svm\n",
    "modelSVM = svm.SVC(gamma=0.001, C=100.) \n",
    "modelSVM.fit(X_train, y_train)\n",
    "print(classification_report(y_test,modelSVM.predict(X_test)))"
   ]
  },
  {
   "cell_type": "code",
   "execution_count": null,
   "metadata": {},
   "outputs": [],
   "source": [
    "##Logistic regression: \n",
    "from sklearn import linear_model\n",
    "modelLR = linear_model.LogisticRegression(C=1e5, max_iter=1000)    \n",
    "modelLR.fit(X_train, y_train)\n",
    "print(classification_report(y_test, modelLR.predict(X_test)))"
   ]
  },
  {
   "cell_type": "code",
   "execution_count": null,
   "metadata": {},
   "outputs": [],
   "source": [
    "##Random forests\n",
    "from sklearn.ensemble import RandomForestClassifier\n",
    "modelRF=RandomForestClassifier(n_estimators=1000)   \n",
    "modelRF.fit(X_train, y_train)\n",
    "print(classification_report(y_test, modelRF.predict(X_test)))"
   ]
  },
  {
   "cell_type": "code",
   "execution_count": null,
   "metadata": {},
   "outputs": [],
   "source": [
    "##Neural network: \n",
    "from sklearn.preprocessing import StandardScaler\n",
    "from sklearn.neural_network import MLPClassifier"
   ]
  },
  {
   "cell_type": "code",
   "execution_count": null,
   "metadata": {},
   "outputs": [],
   "source": [
    "scaler = StandardScaler()\n",
    "scaler.fit(X_train) \n",
    "X_train = scaler.transform(X_train)\n",
    "X_test = scaler.transform(X_test) "
   ]
  },
  {
   "cell_type": "code",
   "execution_count": null,
   "metadata": {},
   "outputs": [],
   "source": [
    "modelNN = MLPClassifier(hidden_layer_sizes=(5,5,5), max_iter=500) \n",
    "#3 hidden layers with 13 neurons in each layer \n",
    "modelNN.fit(X_train, y_train)\n",
    "print(classification_report(y_test,modelNN.predict(X_test)))"
   ]
  },
  {
   "cell_type": "code",
   "execution_count": null,
   "metadata": {},
   "outputs": [],
   "source": []
  },
  {
   "cell_type": "code",
   "execution_count": null,
   "metadata": {},
   "outputs": [],
   "source": []
  },
  {
   "cell_type": "markdown",
   "metadata": {},
   "source": [
    "Using frequency domain and time domain by concatenating matrices:"
   ]
  },
  {
   "cell_type": "code",
   "execution_count": null,
   "metadata": {},
   "outputs": [],
   "source": []
  },
  {
   "cell_type": "code",
   "execution_count": null,
   "metadata": {},
   "outputs": [],
   "source": []
  },
  {
   "cell_type": "code",
   "execution_count": null,
   "metadata": {},
   "outputs": [],
   "source": [
    "X_train_fft, X_test_fft, y_train_fft, y_test_fft = train_test_split(X_fft, y, test_size = 0.2)\n",
    "\n",
    "sc = StandardScaler()\n",
    "X_train_fft = sc.fit_transform(X_train_fft)\n",
    "X_test_fft = sc.transform(X_test_fft)\n",
    "\n",
    "clf_fft = XGBClassifier()\n",
    "clf_fft.fit(X_train_fft, y_train_fft)"
   ]
  },
  {
   "cell_type": "code",
   "execution_count": null,
   "metadata": {},
   "outputs": [],
   "source": []
  },
  {
   "cell_type": "code",
   "execution_count": null,
   "metadata": {},
   "outputs": [],
   "source": []
  },
  {
   "cell_type": "code",
   "execution_count": null,
   "metadata": {},
   "outputs": [],
   "source": []
  },
  {
   "cell_type": "code",
   "execution_count": null,
   "metadata": {},
   "outputs": [],
   "source": []
  },
  {
   "cell_type": "code",
   "execution_count": null,
   "metadata": {},
   "outputs": [],
   "source": []
  }
 ],
 "metadata": {
  "kernelspec": {
   "display_name": "Python 3",
   "language": "python",
   "name": "python3"
  },
  "language_info": {
   "codemirror_mode": {
    "name": "ipython",
    "version": 3
   },
   "file_extension": ".py",
   "mimetype": "text/x-python",
   "name": "python",
   "nbconvert_exporter": "python",
   "pygments_lexer": "ipython3",
   "version": "3.7.6"
  }
 },
 "nbformat": 4,
 "nbformat_minor": 4
}
